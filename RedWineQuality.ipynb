{
  "nbformat": 4,
  "nbformat_minor": 0,
  "metadata": {
    "colab": {
      "provenance": [],
      "collapsed_sections": [],
      "authorship_tag": "ABX9TyOr9/bhpabOKk8CKHLIURsP",
      "include_colab_link": true
    },
    "kernelspec": {
      "name": "python3",
      "display_name": "Python 3"
    },
    "language_info": {
      "name": "python"
    }
  },
  "cells": [
    {
      "cell_type": "markdown",
      "metadata": {
        "id": "view-in-github",
        "colab_type": "text"
      },
      "source": [
        "<a href=\"https://colab.research.google.com/github/meghamkpatel/Skunks_Skool/blob/main/RedWineQuality.ipynb\" target=\"_parent\"><img src=\"https://colab.research.google.com/assets/colab-badge.svg\" alt=\"Open In Colab\"/></a>"
      ]
    },
    {
      "cell_type": "markdown",
      "source": [
        "#Data Science Engineering\n",
        "##Assignment 2 - Red Wine Quality\n",
        "*AutoML*\n",
        "_______________________________________\n"
      ],
      "metadata": {
        "id": "TQiGJXnYhgHB"
      }
    },
    {
      "cell_type": "markdown",
      "source": [
        "###About the dataset\n",
        "to doooooo"
      ],
      "metadata": {
        "id": "98f5y5flqAns"
      }
    },
    {
      "cell_type": "markdown",
      "source": [
        "Initializing H2O..."
      ],
      "metadata": {
        "id": "mOKqUODfiIkH"
      }
    },
    {
      "cell_type": "code",
      "source": [
        "!pip install -f http://h2o-release.s3.amazonaws.com/h2o/latest_stable_Py.html h2o"
      ],
      "metadata": {
        "colab": {
          "base_uri": "https://localhost:8080/"
        },
        "id": "LECbMq24jaUq",
        "outputId": "b24ef755-acf3-499f-81e0-a75e1013d75e"
      },
      "execution_count": 3,
      "outputs": [
        {
          "output_type": "stream",
          "name": "stdout",
          "text": [
            "Looking in indexes: https://pypi.org/simple, https://us-python.pkg.dev/colab-wheels/public/simple/\n",
            "Looking in links: http://h2o-release.s3.amazonaws.com/h2o/latest_stable_Py.html\n",
            "\u001b[33mWARNING: The repository located at h2o-release.s3.amazonaws.com is not a trusted or secure host and is being ignored. If this repository is available via HTTPS we recommend you use HTTPS instead, otherwise you may silence this warning and allow it anyway with '--trusted-host h2o-release.s3.amazonaws.com'.\u001b[0m\n",
            "Collecting h2o\n",
            "  Downloading h2o-3.38.0.1.tar.gz (177.2 MB)\n",
            "\u001b[K     |████████████████████████████████| 177.2 MB 49 kB/s \n",
            "\u001b[?25hRequirement already satisfied: requests in /usr/local/lib/python3.7/dist-packages (from h2o) (2.23.0)\n",
            "Requirement already satisfied: tabulate in /usr/local/lib/python3.7/dist-packages (from h2o) (0.8.10)\n",
            "Requirement already satisfied: future in /usr/local/lib/python3.7/dist-packages (from h2o) (0.16.0)\n",
            "Requirement already satisfied: certifi>=2017.4.17 in /usr/local/lib/python3.7/dist-packages (from requests->h2o) (2022.9.24)\n",
            "Requirement already satisfied: urllib3!=1.25.0,!=1.25.1,<1.26,>=1.21.1 in /usr/local/lib/python3.7/dist-packages (from requests->h2o) (1.24.3)\n",
            "Requirement already satisfied: chardet<4,>=3.0.2 in /usr/local/lib/python3.7/dist-packages (from requests->h2o) (3.0.4)\n",
            "Requirement already satisfied: idna<3,>=2.5 in /usr/local/lib/python3.7/dist-packages (from requests->h2o) (2.10)\n",
            "Building wheels for collected packages: h2o\n",
            "  Building wheel for h2o (setup.py) ... \u001b[?25l\u001b[?25hdone\n",
            "  Created wheel for h2o: filename=h2o-3.38.0.1-py2.py3-none-any.whl size=177276478 sha256=aed996e0dbb62a8a9ccf7e75266c86eb09bb8b782e3aad97fa006f155c0c96ff\n",
            "  Stored in directory: /root/.cache/pip/wheels/a1/a1/d9/bb37df368c4635a707e7362d1088450b606041f05aeba5f173\n",
            "Successfully built h2o\n",
            "Installing collected packages: h2o\n",
            "Successfully installed h2o-3.38.0.1\n"
          ]
        }
      ]
    },
    {
      "cell_type": "code",
      "execution_count": 24,
      "metadata": {
        "id": "F9X7-MLqgw_8"
      },
      "outputs": [],
      "source": [
        "%matplotlib inline\n",
        "import random, os, sys\n",
        "import h2o\n",
        "import pandas\n",
        "import pprint\n",
        "import operator\n",
        "import matplotlib\n",
        "from h2o.estimators.glm import H2OGeneralizedLinearEstimator\n",
        "from h2o.estimators.gbm import H2OGradientBoostingEstimator\n",
        "from h2o.estimators.random_forest import H2ORandomForestEstimator\n",
        "from h2o.estimators.deeplearning import H2ODeepLearningEstimator\n",
        "from tabulate import tabulate\n",
        "from h2o.automl import H2OAutoML\n",
        "from datetime import datetime\n",
        "import pandas as pd\n",
        "import logging\n",
        "import csv\n",
        "import optparse\n",
        "import time\n",
        "import json\n",
        "from distutils.util import strtobool\n",
        "import psutil\n",
        "import numpy as np"
      ]
    },
    {
      "cell_type": "code",
      "source": [
        "min_mem_size=6 \n",
        "run_time=222"
      ],
      "metadata": {
        "id": "OoLkykO2tu-S"
      },
      "execution_count": 20,
      "outputs": []
    },
    {
      "cell_type": "code",
      "source": [
        "pct_memory=0.5\n",
        "virtual_memory=psutil.virtual_memory()\n",
        "min_mem_size=int(round(int(pct_memory*virtual_memory.available)/1073741824,0))\n",
        "print(min_mem_size)"
      ],
      "metadata": {
        "colab": {
          "base_uri": "https://localhost:8080/"
        },
        "id": "5FcU8dnauM_J",
        "outputId": "111fe102-cc0a-43b9-b129-ec7946592b36"
      },
      "execution_count": 34,
      "outputs": [
        {
          "output_type": "stream",
          "name": "stdout",
          "text": [
            "5\n"
          ]
        }
      ]
    },
    {
      "cell_type": "code",
      "source": [
        "# 65535 Highest port no\n",
        "port_no=random.randint(5555,55555)\n",
        "\n",
        "try:\n",
        "  h2o.init(strict_version_check=False,min_mem_size_GB=min_mem_size,port=port_no) # start h2o\n",
        "except:\n",
        "  logging.critical('h2o.init')\n",
        "  h2o.download_all_logs(dirname=logs_path, filename=logfile)      \n",
        "  h2o.cluster().shutdown()\n",
        "  sys.exit(2)"
      ],
      "metadata": {
        "id": "7haXGaXuuO4o"
      },
      "execution_count": null,
      "outputs": []
    },
    {
      "cell_type": "code",
      "source": [
        "#installing dependencies\n",
        "!pip install eli5\n",
        "!pip install -q kaggle"
      ],
      "metadata": {
        "colab": {
          "base_uri": "https://localhost:8080/"
        },
        "id": "JsqNWl19i7W5",
        "outputId": "7eafe58b-2c3c-41ab-9c7c-7bed986261a2"
      },
      "execution_count": 5,
      "outputs": [
        {
          "output_type": "stream",
          "name": "stdout",
          "text": [
            "Looking in indexes: https://pypi.org/simple, https://us-python.pkg.dev/colab-wheels/public/simple/\n",
            "Collecting eli5\n",
            "  Downloading eli5-0.13.0.tar.gz (216 kB)\n",
            "\u001b[K     |████████████████████████████████| 216 kB 7.8 MB/s \n",
            "\u001b[?25hRequirement already satisfied: attrs>17.1.0 in /usr/local/lib/python3.7/dist-packages (from eli5) (22.1.0)\n",
            "Collecting jinja2>=3.0.0\n",
            "  Downloading Jinja2-3.1.2-py3-none-any.whl (133 kB)\n",
            "\u001b[K     |████████████████████████████████| 133 kB 51.1 MB/s \n",
            "\u001b[?25hRequirement already satisfied: numpy>=1.9.0 in /usr/local/lib/python3.7/dist-packages (from eli5) (1.21.6)\n",
            "Requirement already satisfied: scipy in /usr/local/lib/python3.7/dist-packages (from eli5) (1.7.3)\n",
            "Requirement already satisfied: six in /usr/local/lib/python3.7/dist-packages (from eli5) (1.15.0)\n",
            "Requirement already satisfied: scikit-learn>=0.20 in /usr/local/lib/python3.7/dist-packages (from eli5) (1.0.2)\n",
            "Requirement already satisfied: graphviz in /usr/local/lib/python3.7/dist-packages (from eli5) (0.10.1)\n",
            "Requirement already satisfied: tabulate>=0.7.7 in /usr/local/lib/python3.7/dist-packages (from eli5) (0.8.10)\n",
            "Requirement already satisfied: MarkupSafe>=2.0 in /usr/local/lib/python3.7/dist-packages (from jinja2>=3.0.0->eli5) (2.0.1)\n",
            "Requirement already satisfied: threadpoolctl>=2.0.0 in /usr/local/lib/python3.7/dist-packages (from scikit-learn>=0.20->eli5) (3.1.0)\n",
            "Requirement already satisfied: joblib>=0.11 in /usr/local/lib/python3.7/dist-packages (from scikit-learn>=0.20->eli5) (1.2.0)\n",
            "Building wheels for collected packages: eli5\n",
            "  Building wheel for eli5 (setup.py) ... \u001b[?25l\u001b[?25hdone\n",
            "  Created wheel for eli5: filename=eli5-0.13.0-py2.py3-none-any.whl size=107748 sha256=49b3ad502fea85aaa38e1460976d4d9a1d09741d42f19d2ed967d4591a8aaeb7\n",
            "  Stored in directory: /root/.cache/pip/wheels/cc/3c/96/3ead31a8e6c20fc0f1a707fde2e05d49a80b1b4b30096573be\n",
            "Successfully built eli5\n",
            "Installing collected packages: jinja2, eli5\n",
            "  Attempting uninstall: jinja2\n",
            "    Found existing installation: Jinja2 2.11.3\n",
            "    Uninstalling Jinja2-2.11.3:\n",
            "      Successfully uninstalled Jinja2-2.11.3\n",
            "\u001b[31mERROR: pip's dependency resolver does not currently take into account all the packages that are installed. This behaviour is the source of the following dependency conflicts.\n",
            "flask 1.1.4 requires Jinja2<3.0,>=2.10.1, but you have jinja2 3.1.2 which is incompatible.\u001b[0m\n",
            "Successfully installed eli5-0.13.0 jinja2-3.1.2\n"
          ]
        }
      ]
    },
    {
      "cell_type": "code",
      "source": [
        "#making a directory for kaggle api\n",
        "from google.colab import files\n",
        "files.upload()\n",
        "! mkdir ~/.kaggle\n",
        "! cp kaggle.json ~/.kaggle/\n",
        "! chmod 600 ~/.kaggle/kaggle.json"
      ],
      "metadata": {
        "colab": {
          "base_uri": "https://localhost:8080/",
          "height": 74
        },
        "id": "BZQ9vE8li9Q5",
        "outputId": "a9243b81-3c8c-41d9-f4ca-615f416ba6c1"
      },
      "execution_count": 6,
      "outputs": [
        {
          "output_type": "display_data",
          "data": {
            "text/plain": [
              "<IPython.core.display.HTML object>"
            ],
            "text/html": [
              "\n",
              "     <input type=\"file\" id=\"files-aeed83fd-515d-40cd-9ca7-d339e35d241f\" name=\"files[]\" multiple disabled\n",
              "        style=\"border:none\" />\n",
              "     <output id=\"result-aeed83fd-515d-40cd-9ca7-d339e35d241f\">\n",
              "      Upload widget is only available when the cell has been executed in the\n",
              "      current browser session. Please rerun this cell to enable.\n",
              "      </output>\n",
              "      <script>// Copyright 2017 Google LLC\n",
              "//\n",
              "// Licensed under the Apache License, Version 2.0 (the \"License\");\n",
              "// you may not use this file except in compliance with the License.\n",
              "// You may obtain a copy of the License at\n",
              "//\n",
              "//      http://www.apache.org/licenses/LICENSE-2.0\n",
              "//\n",
              "// Unless required by applicable law or agreed to in writing, software\n",
              "// distributed under the License is distributed on an \"AS IS\" BASIS,\n",
              "// WITHOUT WARRANTIES OR CONDITIONS OF ANY KIND, either express or implied.\n",
              "// See the License for the specific language governing permissions and\n",
              "// limitations under the License.\n",
              "\n",
              "/**\n",
              " * @fileoverview Helpers for google.colab Python module.\n",
              " */\n",
              "(function(scope) {\n",
              "function span(text, styleAttributes = {}) {\n",
              "  const element = document.createElement('span');\n",
              "  element.textContent = text;\n",
              "  for (const key of Object.keys(styleAttributes)) {\n",
              "    element.style[key] = styleAttributes[key];\n",
              "  }\n",
              "  return element;\n",
              "}\n",
              "\n",
              "// Max number of bytes which will be uploaded at a time.\n",
              "const MAX_PAYLOAD_SIZE = 100 * 1024;\n",
              "\n",
              "function _uploadFiles(inputId, outputId) {\n",
              "  const steps = uploadFilesStep(inputId, outputId);\n",
              "  const outputElement = document.getElementById(outputId);\n",
              "  // Cache steps on the outputElement to make it available for the next call\n",
              "  // to uploadFilesContinue from Python.\n",
              "  outputElement.steps = steps;\n",
              "\n",
              "  return _uploadFilesContinue(outputId);\n",
              "}\n",
              "\n",
              "// This is roughly an async generator (not supported in the browser yet),\n",
              "// where there are multiple asynchronous steps and the Python side is going\n",
              "// to poll for completion of each step.\n",
              "// This uses a Promise to block the python side on completion of each step,\n",
              "// then passes the result of the previous step as the input to the next step.\n",
              "function _uploadFilesContinue(outputId) {\n",
              "  const outputElement = document.getElementById(outputId);\n",
              "  const steps = outputElement.steps;\n",
              "\n",
              "  const next = steps.next(outputElement.lastPromiseValue);\n",
              "  return Promise.resolve(next.value.promise).then((value) => {\n",
              "    // Cache the last promise value to make it available to the next\n",
              "    // step of the generator.\n",
              "    outputElement.lastPromiseValue = value;\n",
              "    return next.value.response;\n",
              "  });\n",
              "}\n",
              "\n",
              "/**\n",
              " * Generator function which is called between each async step of the upload\n",
              " * process.\n",
              " * @param {string} inputId Element ID of the input file picker element.\n",
              " * @param {string} outputId Element ID of the output display.\n",
              " * @return {!Iterable<!Object>} Iterable of next steps.\n",
              " */\n",
              "function* uploadFilesStep(inputId, outputId) {\n",
              "  const inputElement = document.getElementById(inputId);\n",
              "  inputElement.disabled = false;\n",
              "\n",
              "  const outputElement = document.getElementById(outputId);\n",
              "  outputElement.innerHTML = '';\n",
              "\n",
              "  const pickedPromise = new Promise((resolve) => {\n",
              "    inputElement.addEventListener('change', (e) => {\n",
              "      resolve(e.target.files);\n",
              "    });\n",
              "  });\n",
              "\n",
              "  const cancel = document.createElement('button');\n",
              "  inputElement.parentElement.appendChild(cancel);\n",
              "  cancel.textContent = 'Cancel upload';\n",
              "  const cancelPromise = new Promise((resolve) => {\n",
              "    cancel.onclick = () => {\n",
              "      resolve(null);\n",
              "    };\n",
              "  });\n",
              "\n",
              "  // Wait for the user to pick the files.\n",
              "  const files = yield {\n",
              "    promise: Promise.race([pickedPromise, cancelPromise]),\n",
              "    response: {\n",
              "      action: 'starting',\n",
              "    }\n",
              "  };\n",
              "\n",
              "  cancel.remove();\n",
              "\n",
              "  // Disable the input element since further picks are not allowed.\n",
              "  inputElement.disabled = true;\n",
              "\n",
              "  if (!files) {\n",
              "    return {\n",
              "      response: {\n",
              "        action: 'complete',\n",
              "      }\n",
              "    };\n",
              "  }\n",
              "\n",
              "  for (const file of files) {\n",
              "    const li = document.createElement('li');\n",
              "    li.append(span(file.name, {fontWeight: 'bold'}));\n",
              "    li.append(span(\n",
              "        `(${file.type || 'n/a'}) - ${file.size} bytes, ` +\n",
              "        `last modified: ${\n",
              "            file.lastModifiedDate ? file.lastModifiedDate.toLocaleDateString() :\n",
              "                                    'n/a'} - `));\n",
              "    const percent = span('0% done');\n",
              "    li.appendChild(percent);\n",
              "\n",
              "    outputElement.appendChild(li);\n",
              "\n",
              "    const fileDataPromise = new Promise((resolve) => {\n",
              "      const reader = new FileReader();\n",
              "      reader.onload = (e) => {\n",
              "        resolve(e.target.result);\n",
              "      };\n",
              "      reader.readAsArrayBuffer(file);\n",
              "    });\n",
              "    // Wait for the data to be ready.\n",
              "    let fileData = yield {\n",
              "      promise: fileDataPromise,\n",
              "      response: {\n",
              "        action: 'continue',\n",
              "      }\n",
              "    };\n",
              "\n",
              "    // Use a chunked sending to avoid message size limits. See b/62115660.\n",
              "    let position = 0;\n",
              "    do {\n",
              "      const length = Math.min(fileData.byteLength - position, MAX_PAYLOAD_SIZE);\n",
              "      const chunk = new Uint8Array(fileData, position, length);\n",
              "      position += length;\n",
              "\n",
              "      const base64 = btoa(String.fromCharCode.apply(null, chunk));\n",
              "      yield {\n",
              "        response: {\n",
              "          action: 'append',\n",
              "          file: file.name,\n",
              "          data: base64,\n",
              "        },\n",
              "      };\n",
              "\n",
              "      let percentDone = fileData.byteLength === 0 ?\n",
              "          100 :\n",
              "          Math.round((position / fileData.byteLength) * 100);\n",
              "      percent.textContent = `${percentDone}% done`;\n",
              "\n",
              "    } while (position < fileData.byteLength);\n",
              "  }\n",
              "\n",
              "  // All done.\n",
              "  yield {\n",
              "    response: {\n",
              "      action: 'complete',\n",
              "    }\n",
              "  };\n",
              "}\n",
              "\n",
              "scope.google = scope.google || {};\n",
              "scope.google.colab = scope.google.colab || {};\n",
              "scope.google.colab._files = {\n",
              "  _uploadFiles,\n",
              "  _uploadFilesContinue,\n",
              "};\n",
              "})(self);\n",
              "</script> "
            ]
          },
          "metadata": {}
        },
        {
          "output_type": "stream",
          "name": "stdout",
          "text": [
            "Saving kaggle.json to kaggle.json\n"
          ]
        }
      ]
    },
    {
      "cell_type": "code",
      "source": [
        "#downloading and reading the red wine dataset\n",
        "! kaggle datasets list -s 'red wine quality' # searching through kaggle with keyword 'red wine'\n",
        "! kaggle datasets download -d uciml/red-wine-quality-cortez-et-al-2009\n",
        "!unzip red-wine-quality-cortez-et-al-2009.zip"
      ],
      "metadata": {
        "colab": {
          "base_uri": "https://localhost:8080/"
        },
        "id": "ZXdNthsbjGbC",
        "outputId": "811374c7-111b-4e91-d154-5681f2253c27"
      },
      "execution_count": 10,
      "outputs": [
        {
          "output_type": "stream",
          "name": "stdout",
          "text": [
            "ref                                                title                                      size  lastUpdated          downloadCount  voteCount  usabilityRating  \n",
            "-------------------------------------------------  ----------------------------------------  -----  -------------------  -------------  ---------  ---------------  \n",
            "uciml/red-wine-quality-cortez-et-al-2009           Red Wine Quality                           26KB  2017-11-27 23:41:08         152053       2225  0.88235295       \n",
            "ruthgn/wine-quality-data-set-red-white-wine        Wine Quality Data Set (Red & White Wine)   98KB  2021-11-03 01:26:46           1447         38  1.0              \n",
            "yasserh/wine-quality-dataset                       Wine Quality Dataset                       21KB  2022-01-15 19:15:11          18369        454  1.0              \n",
            "pritsheta/redwinequality                           RED-WINE-QUALITY                           26KB  2021-08-30 05:58:27            122         18  0.9705882        \n",
            "piyushgoyal443/red-wine-dataset                    Red Wine Dataset                           29KB  2017-03-05 03:38:35           9921         82  0.85294116       \n",
            "fedesoriano/spanish-wine-quality-dataset           Spanish Wine Quality Dataset               46KB  2022-04-26 19:31:40           2484         79  1.0              \n",
            "brendan45774/wine-quality                          Wine Quality                               95KB  2021-09-23 13:21:17            632         36  1.0              \n",
            "rajyellow46/wine-quality                           Wine Quality                               98KB  2018-07-09 16:08:15          23163        198  0.7058824        \n",
            "piyushagni5/white-wine-quality                     White Wine Quality                         73KB  2020-09-28 11:10:37           5540         34  0.88235295       \n",
            "danielpanizzo/wine-quality                         Wine Quality                              108KB  2017-10-29 19:56:48           4756         39  0.7352941        \n",
            "nareshbhat/wine-quality-binary-classification      Wine Quality Classification                25KB  2020-07-23 06:16:08           2876         40  0.5882353        \n",
            "turhancankargin/wine-quality-red-and-white         Wine Quality (Red and White)              116KB  2020-07-29 17:15:06            228          6  0.64705884       \n",
            "xuzihe2010/wine-quality-red                        Wine Quality - red or white?               95KB  2018-02-03 05:05:33            449          6  0.5882353        \n",
            "fedesoriano/stellar-classification-dataset-sdss17  Stellar Classification Dataset - SDSS17     7MB  2022-01-15 17:11:30           4042        148  1.0              \n",
            "gauravduttakiit/white-wine-quality                 White Wine Quality                         89KB  2022-09-10 17:12:20            147         13  0.7058824        \n",
            "shelvigarg/wine-quality-dataset                    Wine Quality Dataset                       98KB  2021-09-15 07:00:12           2112         24  0.8235294        \n",
            "saigeethac/red-and-white-wine-quality-datasets     Red and White Wine Quality Analysis        95KB  2021-12-06 11:37:41            121          2  0.85294116       \n",
            "midouazerty/redwine                                red wine data                              26KB  2020-07-21 01:18:29             36         11  0.29411766       \n",
            "siyuanh/combined-wine-data                         combined wine data                        112KB  2017-11-25 07:56:12            607          9  0.7058824        \n",
            "greatdk/wine-quality-dataset                       Wine Quality Dataset                       95KB  2020-03-06 15:37:32            235          6  0.5882353        \n",
            "red-wine-quality-cortez-et-al-2009.zip: Skipping, found more recently modified local copy (use --force to force download)\n",
            "Archive:  red-wine-quality-cortez-et-al-2009.zip\n",
            "  inflating: winequality-red.csv     \n"
          ]
        }
      ]
    },
    {
      "cell_type": "code",
      "source": [
        "h2o.init(strict_version_check=False) # start h2o"
      ],
      "metadata": {
        "id": "dVu_k-SFk9B-"
      },
      "execution_count": null,
      "outputs": []
    },
    {
      "cell_type": "code",
      "source": [
        "# set this to True if interactive (matplotlib) plots are desired\n",
        "interactive = True\n",
        "if not interactive: matplotlib.use('Agg', warn=False)\n",
        "import matplotlib.pyplot as plt"
      ],
      "metadata": {
        "id": "Hr4gn8FHmBrd"
      },
      "execution_count": 11,
      "outputs": []
    },
    {
      "cell_type": "code",
      "source": [
        "#Viewing data in the file \n",
        "data = h2o.import_file(\"winequality-red.csv\")\n",
        "data.shape\n",
        "data.describe()\n",
        "data.head()\n"
      ],
      "metadata": {
        "colab": {
          "base_uri": "https://localhost:8080/",
          "height": 1000
        },
        "id": "S01xMKaekqo6",
        "outputId": "a8098bf7-ba2e-4b85-c8b1-08235f1974e5"
      },
      "execution_count": 17,
      "outputs": [
        {
          "output_type": "stream",
          "name": "stdout",
          "text": [
            "Parse progress: |████████████████████████████████████████████████████████████████| (done) 100%\n"
          ]
        },
        {
          "output_type": "display_data",
          "data": {
            "text/plain": [
              "Rows:1599\n",
              "Cols:12\n"
            ],
            "text/html": [
              "<pre style='margin: 1em 0 1em 0;'>Rows:1599\n",
              "Cols:12\n",
              "</pre>"
            ]
          },
          "metadata": {}
        },
        {
          "output_type": "display_data",
          "data": {
            "text/plain": [
              "         fixed acidity       volatile acidity     citric acid         residual sugar      chlorides            free sulfur dioxide    total sulfur dioxide    density                pH                  sulphates            alcohol             quality\n",
              "-------  ------------------  -------------------  ------------------  ------------------  -------------------  ---------------------  ----------------------  ---------------------  ------------------  -------------------  ------------------  ------------------\n",
              "type     real                real                 real                real                real                 real                   real                    real                   real                real                 real                int\n",
              "mins     4.6                 0.12                 0.0                 0.9                 0.012                1.0                    6.0                     0.99007                2.74                0.33                 8.4                 3.0\n",
              "mean     8.31963727329581    0.5278205128205127   0.2709756097560977  2.53880550343965    0.08746654158849282  15.874921826141343     46.46779237023139       0.996746679174484      3.3111131957473416  0.6581488430268919   10.422983114446529  5.636022514071294\n",
              "maxs     15.9                1.58                 1.0                 15.5                0.611                72.0                   289.0                   1.00369                4.01                2.0                  14.9                8.0\n",
              "sigma    1.7410963181276957  0.17905970415353537  0.1948011374053186  1.4099280595072798  0.0470653020100901   10.460156969809725     32.895324478299074      0.0018873339538425153  0.1543864649035426  0.16950697959010994  1.0656675818473942  0.8075694397347049\n",
              "zeros    0                   0                    132                 0                   0                    0                      0                       0                      0                   0                    0                   0\n",
              "missing  0                   0                    0                   0                   0                    0                      0                       0                      0                   0                    0                   0\n",
              "0        7.4                 0.7                  0.0                 1.9                 0.076                11.0                   34.0                    0.9978                 3.51                0.56                 9.4                 5.0\n",
              "1        7.8                 0.88                 0.0                 2.6                 0.098                25.0                   67.0                    0.9968                 3.2                 0.68                 9.8                 5.0\n",
              "2        7.8                 0.76                 0.04                2.3                 0.092                15.0                   54.0                    0.997                  3.26                0.65                 9.8                 5.0\n",
              "3        11.2                0.28                 0.56                1.9                 0.075                17.0                   60.0                    0.998                  3.16                0.58                 9.8                 6.0\n",
              "4        7.4                 0.7                  0.0                 1.9                 0.076                11.0                   34.0                    0.9978                 3.51                0.56                 9.4                 5.0\n",
              "5        7.4                 0.66                 0.0                 1.8                 0.075                13.0                   40.0                    0.9978                 3.51                0.56                 9.4                 5.0\n",
              "6        7.9                 0.6                  0.06                1.6                 0.069                15.0                   59.0                    0.9964                 3.3                 0.46                 9.4                 5.0\n",
              "7        7.3                 0.65                 0.0                 1.2                 0.065                15.0                   21.0                    0.9946                 3.39                0.47                 10.0                7.0\n",
              "8        7.8                 0.58                 0.02                2.0                 0.073                9.0                    18.0                    0.9968                 3.36                0.57                 9.5                 7.0\n",
              "9        7.5                 0.5                  0.36                6.1                 0.071                17.0                   102.0                   0.9978                 3.35                0.8                  10.5                5.0\n",
              "[1599 rows x 12 columns]\n"
            ],
            "text/html": [
              "<table class='dataframe'>\n",
              "<thead>\n",
              "<tr><th>       </th><th>fixed acidity     </th><th>volatile acidity   </th><th>citric acid       </th><th>residual sugar    </th><th>chlorides          </th><th>free sulfur dioxide  </th><th>total sulfur dioxide  </th><th>density              </th><th>pH                </th><th>sulphates          </th><th>alcohol           </th><th>quality           </th></tr>\n",
              "</thead>\n",
              "<tbody>\n",
              "<tr><td>type   </td><td>real              </td><td>real               </td><td>real              </td><td>real              </td><td>real               </td><td>real                 </td><td>real                  </td><td>real                 </td><td>real              </td><td>real               </td><td>real              </td><td>int               </td></tr>\n",
              "<tr><td>mins   </td><td>4.6               </td><td>0.12               </td><td>0.0               </td><td>0.9               </td><td>0.012              </td><td>1.0                  </td><td>6.0                   </td><td>0.99007              </td><td>2.74              </td><td>0.33               </td><td>8.4               </td><td>3.0               </td></tr>\n",
              "<tr><td>mean   </td><td>8.31963727329581  </td><td>0.5278205128205127 </td><td>0.2709756097560977</td><td>2.53880550343965  </td><td>0.08746654158849282</td><td>15.874921826141343   </td><td>46.46779237023139     </td><td>0.996746679174484    </td><td>3.3111131957473416</td><td>0.6581488430268919 </td><td>10.422983114446529</td><td>5.636022514071294 </td></tr>\n",
              "<tr><td>maxs   </td><td>15.9              </td><td>1.58               </td><td>1.0               </td><td>15.5              </td><td>0.611              </td><td>72.0                 </td><td>289.0                 </td><td>1.00369              </td><td>4.01              </td><td>2.0                </td><td>14.9              </td><td>8.0               </td></tr>\n",
              "<tr><td>sigma  </td><td>1.7410963181276957</td><td>0.17905970415353537</td><td>0.1948011374053186</td><td>1.4099280595072798</td><td>0.0470653020100901 </td><td>10.460156969809725   </td><td>32.895324478299074    </td><td>0.0018873339538425153</td><td>0.1543864649035426</td><td>0.16950697959010994</td><td>1.0656675818473942</td><td>0.8075694397347049</td></tr>\n",
              "<tr><td>zeros  </td><td>0                 </td><td>0                  </td><td>132               </td><td>0                 </td><td>0                  </td><td>0                    </td><td>0                     </td><td>0                    </td><td>0                 </td><td>0                  </td><td>0                 </td><td>0                 </td></tr>\n",
              "<tr><td>missing</td><td>0                 </td><td>0                  </td><td>0                 </td><td>0                 </td><td>0                  </td><td>0                    </td><td>0                     </td><td>0                    </td><td>0                 </td><td>0                  </td><td>0                 </td><td>0                 </td></tr>\n",
              "<tr><td>0      </td><td>7.4               </td><td>0.7                </td><td>0.0               </td><td>1.9               </td><td>0.076              </td><td>11.0                 </td><td>34.0                  </td><td>0.9978               </td><td>3.51              </td><td>0.56               </td><td>9.4               </td><td>5.0               </td></tr>\n",
              "<tr><td>1      </td><td>7.8               </td><td>0.88               </td><td>0.0               </td><td>2.6               </td><td>0.098              </td><td>25.0                 </td><td>67.0                  </td><td>0.9968               </td><td>3.2               </td><td>0.68               </td><td>9.8               </td><td>5.0               </td></tr>\n",
              "<tr><td>2      </td><td>7.8               </td><td>0.76               </td><td>0.04              </td><td>2.3               </td><td>0.092              </td><td>15.0                 </td><td>54.0                  </td><td>0.997                </td><td>3.26              </td><td>0.65               </td><td>9.8               </td><td>5.0               </td></tr>\n",
              "<tr><td>3      </td><td>11.2              </td><td>0.28               </td><td>0.56              </td><td>1.9               </td><td>0.075              </td><td>17.0                 </td><td>60.0                  </td><td>0.998                </td><td>3.16              </td><td>0.58               </td><td>9.8               </td><td>6.0               </td></tr>\n",
              "<tr><td>4      </td><td>7.4               </td><td>0.7                </td><td>0.0               </td><td>1.9               </td><td>0.076              </td><td>11.0                 </td><td>34.0                  </td><td>0.9978               </td><td>3.51              </td><td>0.56               </td><td>9.4               </td><td>5.0               </td></tr>\n",
              "<tr><td>5      </td><td>7.4               </td><td>0.66               </td><td>0.0               </td><td>1.8               </td><td>0.075              </td><td>13.0                 </td><td>40.0                  </td><td>0.9978               </td><td>3.51              </td><td>0.56               </td><td>9.4               </td><td>5.0               </td></tr>\n",
              "<tr><td>6      </td><td>7.9               </td><td>0.6                </td><td>0.06              </td><td>1.6               </td><td>0.069              </td><td>15.0                 </td><td>59.0                  </td><td>0.9964               </td><td>3.3               </td><td>0.46               </td><td>9.4               </td><td>5.0               </td></tr>\n",
              "<tr><td>7      </td><td>7.3               </td><td>0.65               </td><td>0.0               </td><td>1.2               </td><td>0.065              </td><td>15.0                 </td><td>21.0                  </td><td>0.9946               </td><td>3.39              </td><td>0.47               </td><td>10.0              </td><td>7.0               </td></tr>\n",
              "<tr><td>8      </td><td>7.8               </td><td>0.58               </td><td>0.02              </td><td>2.0               </td><td>0.073              </td><td>9.0                  </td><td>18.0                  </td><td>0.9968               </td><td>3.36              </td><td>0.57               </td><td>9.5               </td><td>7.0               </td></tr>\n",
              "<tr><td>9      </td><td>7.5               </td><td>0.5                </td><td>0.36              </td><td>6.1               </td><td>0.071              </td><td>17.0                 </td><td>102.0                 </td><td>0.9978               </td><td>3.35              </td><td>0.8                </td><td>10.5              </td><td>5.0               </td></tr>\n",
              "</tbody>\n",
              "</table><pre style='font-size: smaller; margin-bottom: 1em;'>[1599 rows x 12 columns]</pre>"
            ]
          },
          "metadata": {}
        },
        {
          "output_type": "execute_result",
          "data": {
            "text/plain": [
              "  fixed acidity    volatile acidity    citric acid    residual sugar    chlorides    free sulfur dioxide    total sulfur dioxide    density    pH    sulphates    alcohol    quality\n",
              "---------------  ------------------  -------------  ----------------  -----------  ---------------------  ----------------------  ---------  ----  -----------  ---------  ---------\n",
              "            7.4                0.7            0                  1.9        0.076                     11                      34     0.9978  3.51         0.56        9.4          5\n",
              "            7.8                0.88           0                  2.6        0.098                     25                      67     0.9968  3.2          0.68        9.8          5\n",
              "            7.8                0.76           0.04               2.3        0.092                     15                      54     0.997   3.26         0.65        9.8          5\n",
              "           11.2                0.28           0.56               1.9        0.075                     17                      60     0.998   3.16         0.58        9.8          6\n",
              "            7.4                0.7            0                  1.9        0.076                     11                      34     0.9978  3.51         0.56        9.4          5\n",
              "            7.4                0.66           0                  1.8        0.075                     13                      40     0.9978  3.51         0.56        9.4          5\n",
              "            7.9                0.6            0.06               1.6        0.069                     15                      59     0.9964  3.3          0.46        9.4          5\n",
              "            7.3                0.65           0                  1.2        0.065                     15                      21     0.9946  3.39         0.47       10            7\n",
              "            7.8                0.58           0.02               2          0.073                      9                      18     0.9968  3.36         0.57        9.5          7\n",
              "            7.5                0.5            0.36               6.1        0.071                     17                     102     0.9978  3.35         0.8        10.5          5\n",
              "[10 rows x 12 columns]\n"
            ],
            "text/html": [
              "<table class='dataframe'>\n",
              "<thead>\n",
              "<tr><th style=\"text-align: right;\">  fixed acidity</th><th style=\"text-align: right;\">  volatile acidity</th><th style=\"text-align: right;\">  citric acid</th><th style=\"text-align: right;\">  residual sugar</th><th style=\"text-align: right;\">  chlorides</th><th style=\"text-align: right;\">  free sulfur dioxide</th><th style=\"text-align: right;\">  total sulfur dioxide</th><th style=\"text-align: right;\">  density</th><th style=\"text-align: right;\">  pH</th><th style=\"text-align: right;\">  sulphates</th><th style=\"text-align: right;\">  alcohol</th><th style=\"text-align: right;\">  quality</th></tr>\n",
              "</thead>\n",
              "<tbody>\n",
              "<tr><td style=\"text-align: right;\">            7.4</td><td style=\"text-align: right;\">              0.7 </td><td style=\"text-align: right;\">         0   </td><td style=\"text-align: right;\">             1.9</td><td style=\"text-align: right;\">      0.076</td><td style=\"text-align: right;\">                   11</td><td style=\"text-align: right;\">                    34</td><td style=\"text-align: right;\">   0.9978</td><td style=\"text-align: right;\">3.51</td><td style=\"text-align: right;\">       0.56</td><td style=\"text-align: right;\">      9.4</td><td style=\"text-align: right;\">        5</td></tr>\n",
              "<tr><td style=\"text-align: right;\">            7.8</td><td style=\"text-align: right;\">              0.88</td><td style=\"text-align: right;\">         0   </td><td style=\"text-align: right;\">             2.6</td><td style=\"text-align: right;\">      0.098</td><td style=\"text-align: right;\">                   25</td><td style=\"text-align: right;\">                    67</td><td style=\"text-align: right;\">   0.9968</td><td style=\"text-align: right;\">3.2 </td><td style=\"text-align: right;\">       0.68</td><td style=\"text-align: right;\">      9.8</td><td style=\"text-align: right;\">        5</td></tr>\n",
              "<tr><td style=\"text-align: right;\">            7.8</td><td style=\"text-align: right;\">              0.76</td><td style=\"text-align: right;\">         0.04</td><td style=\"text-align: right;\">             2.3</td><td style=\"text-align: right;\">      0.092</td><td style=\"text-align: right;\">                   15</td><td style=\"text-align: right;\">                    54</td><td style=\"text-align: right;\">   0.997 </td><td style=\"text-align: right;\">3.26</td><td style=\"text-align: right;\">       0.65</td><td style=\"text-align: right;\">      9.8</td><td style=\"text-align: right;\">        5</td></tr>\n",
              "<tr><td style=\"text-align: right;\">           11.2</td><td style=\"text-align: right;\">              0.28</td><td style=\"text-align: right;\">         0.56</td><td style=\"text-align: right;\">             1.9</td><td style=\"text-align: right;\">      0.075</td><td style=\"text-align: right;\">                   17</td><td style=\"text-align: right;\">                    60</td><td style=\"text-align: right;\">   0.998 </td><td style=\"text-align: right;\">3.16</td><td style=\"text-align: right;\">       0.58</td><td style=\"text-align: right;\">      9.8</td><td style=\"text-align: right;\">        6</td></tr>\n",
              "<tr><td style=\"text-align: right;\">            7.4</td><td style=\"text-align: right;\">              0.7 </td><td style=\"text-align: right;\">         0   </td><td style=\"text-align: right;\">             1.9</td><td style=\"text-align: right;\">      0.076</td><td style=\"text-align: right;\">                   11</td><td style=\"text-align: right;\">                    34</td><td style=\"text-align: right;\">   0.9978</td><td style=\"text-align: right;\">3.51</td><td style=\"text-align: right;\">       0.56</td><td style=\"text-align: right;\">      9.4</td><td style=\"text-align: right;\">        5</td></tr>\n",
              "<tr><td style=\"text-align: right;\">            7.4</td><td style=\"text-align: right;\">              0.66</td><td style=\"text-align: right;\">         0   </td><td style=\"text-align: right;\">             1.8</td><td style=\"text-align: right;\">      0.075</td><td style=\"text-align: right;\">                   13</td><td style=\"text-align: right;\">                    40</td><td style=\"text-align: right;\">   0.9978</td><td style=\"text-align: right;\">3.51</td><td style=\"text-align: right;\">       0.56</td><td style=\"text-align: right;\">      9.4</td><td style=\"text-align: right;\">        5</td></tr>\n",
              "<tr><td style=\"text-align: right;\">            7.9</td><td style=\"text-align: right;\">              0.6 </td><td style=\"text-align: right;\">         0.06</td><td style=\"text-align: right;\">             1.6</td><td style=\"text-align: right;\">      0.069</td><td style=\"text-align: right;\">                   15</td><td style=\"text-align: right;\">                    59</td><td style=\"text-align: right;\">   0.9964</td><td style=\"text-align: right;\">3.3 </td><td style=\"text-align: right;\">       0.46</td><td style=\"text-align: right;\">      9.4</td><td style=\"text-align: right;\">        5</td></tr>\n",
              "<tr><td style=\"text-align: right;\">            7.3</td><td style=\"text-align: right;\">              0.65</td><td style=\"text-align: right;\">         0   </td><td style=\"text-align: right;\">             1.2</td><td style=\"text-align: right;\">      0.065</td><td style=\"text-align: right;\">                   15</td><td style=\"text-align: right;\">                    21</td><td style=\"text-align: right;\">   0.9946</td><td style=\"text-align: right;\">3.39</td><td style=\"text-align: right;\">       0.47</td><td style=\"text-align: right;\">     10  </td><td style=\"text-align: right;\">        7</td></tr>\n",
              "<tr><td style=\"text-align: right;\">            7.8</td><td style=\"text-align: right;\">              0.58</td><td style=\"text-align: right;\">         0.02</td><td style=\"text-align: right;\">             2  </td><td style=\"text-align: right;\">      0.073</td><td style=\"text-align: right;\">                    9</td><td style=\"text-align: right;\">                    18</td><td style=\"text-align: right;\">   0.9968</td><td style=\"text-align: right;\">3.36</td><td style=\"text-align: right;\">       0.57</td><td style=\"text-align: right;\">      9.5</td><td style=\"text-align: right;\">        7</td></tr>\n",
              "<tr><td style=\"text-align: right;\">            7.5</td><td style=\"text-align: right;\">              0.5 </td><td style=\"text-align: right;\">         0.36</td><td style=\"text-align: right;\">             6.1</td><td style=\"text-align: right;\">      0.071</td><td style=\"text-align: right;\">                   17</td><td style=\"text-align: right;\">                   102</td><td style=\"text-align: right;\">   0.9978</td><td style=\"text-align: right;\">3.35</td><td style=\"text-align: right;\">       0.8 </td><td style=\"text-align: right;\">     10.5</td><td style=\"text-align: right;\">        5</td></tr>\n",
              "</tbody>\n",
              "</table><pre style='font-size: smaller; margin-bottom: 1em;'>[10 rows x 12 columns]</pre>"
            ]
          },
          "metadata": {},
          "execution_count": 17
        }
      ]
    },
    {
      "cell_type": "code",
      "source": [
        "# assign target and inputs for logistic regression\n",
        "y = 'quality'\n",
        "X = [name for name in data.columns if name != y]\n",
        "print(y)\n",
        "print(X)"
      ],
      "metadata": {
        "colab": {
          "base_uri": "https://localhost:8080/"
        },
        "id": "4HgtOBUuqriv",
        "outputId": "b8817832-4d01-42af-c9b1-fd0b3c860aec"
      },
      "execution_count": 18,
      "outputs": [
        {
          "output_type": "stream",
          "name": "stdout",
          "text": [
            "quality\n",
            "['fixed acidity', 'volatile acidity', 'citric acid', 'residual sugar', 'chlorides', 'free sulfur dioxide', 'total sulfur dioxide', 'density', 'pH', 'sulphates', 'alcohol']\n"
          ]
        }
      ]
    },
    {
      "cell_type": "markdown",
      "source": [
        "##Regression"
      ],
      "metadata": {
        "id": "vhabEQFQtZ40"
      }
    },
    {
      "cell_type": "code",
      "source": [
        "aml = H2OAutoML(max_runtime_secs=run_time,exclude_algos = ['DeepLearning'])"
      ],
      "metadata": {
        "id": "ZwgNS0fnth12"
      },
      "execution_count": 21,
      "outputs": []
    },
    {
      "cell_type": "code",
      "source": [
        "model_start_time = time.time()\n",
        "  \n",
        "try:\n",
        "  aml.train(x=X,y=y,training_frame=data)  # Change training_frame=train\n",
        "except Exception as e:\n",
        "  logging.critical('aml.train') \n",
        "  h2o.download_all_logs(dirname=logs_path, filename=logfile)      \n",
        "  h2o.cluster().shutdown()   \n",
        "  sys.exit(4)"
      ],
      "metadata": {
        "colab": {
          "base_uri": "https://localhost:8080/"
        },
        "id": "kW-ddK9iuvTY",
        "outputId": "3d53641c-545a-4488-f4a9-73ab4e09259e"
      },
      "execution_count": 26,
      "outputs": [
        {
          "output_type": "stream",
          "name": "stdout",
          "text": [
            "AutoML progress: |██████████████████████████████████████████████████████████\n",
            "21:31:51.727: GBM_lr_annealing_selection_AutoML_1_20221023_212824 [GBM lr_annealing] failed: water.exceptions.H2OIllegalArgumentException: Can only convert jobs producing a single Model or ModelContainer.\n",
            "\n",
            "█████| (done) 100%\n"
          ]
        }
      ]
    },
    {
      "cell_type": "code",
      "source": [
        "meta_data={}\n",
        "meta_data['model_execution_time'] = {\"regression\":(time.time() - model_start_time)} \n",
        "meta_data"
      ],
      "metadata": {
        "colab": {
          "base_uri": "https://localhost:8080/"
        },
        "id": "P9iZMbUFw1Sf",
        "outputId": "5ec5d7c1-c661-4d83-e954-cd76eaa43e8d"
      },
      "execution_count": 28,
      "outputs": [
        {
          "output_type": "execute_result",
          "data": {
            "text/plain": [
              "{'model_execution_time': {'regression': 290.86050939559937}}"
            ]
          },
          "metadata": {},
          "execution_count": 28
        }
      ]
    },
    {
      "cell_type": "code",
      "source": [
        "print(aml.leaderboard)"
      ],
      "metadata": {
        "colab": {
          "base_uri": "https://localhost:8080/"
        },
        "id": "wGR8RfMDw9as",
        "outputId": "962fbe3b-ea16-4275-b87d-07583641e96c"
      },
      "execution_count": 29,
      "outputs": [
        {
          "output_type": "stream",
          "name": "stdout",
          "text": [
            "model_id                                                     rmse       mse       mae      rmsle    mean_residual_deviance\n",
            "StackedEnsemble_BestOfFamily_6_AutoML_1_20221023_212824  0.555415  0.308485  0.382896  0.0865087                  0.308485\n",
            "StackedEnsemble_BestOfFamily_4_AutoML_1_20221023_212824  0.555759  0.308868  0.37351   0.0864335                  0.308868\n",
            "StackedEnsemble_AllModels_3_AutoML_1_20221023_212824     0.555879  0.309001  0.389381  0.0866595                  0.309001\n",
            "GBM_grid_1_AutoML_1_20221023_212824_model_45             0.563121  0.317105  0.374892  0.087544                   0.317105\n",
            "StackedEnsemble_AllModels_2_AutoML_1_20221023_212824     0.564097  0.318206  0.396641  0.0879426                  0.318206\n",
            "StackedEnsemble_BestOfFamily_2_AutoML_1_20221023_212824  0.564164  0.318282  0.397581  0.087947                   0.318282\n",
            "StackedEnsemble_AllModels_1_AutoML_1_20221023_212824     0.564618  0.318794  0.397813  0.0880014                  0.318794\n",
            "StackedEnsemble_BestOfFamily_3_AutoML_1_20221023_212824  0.565459  0.319744  0.398901  0.0881407                  0.319744\n",
            "GBM_grid_1_AutoML_1_20221023_212824_model_7              0.565643  0.319952  0.371654  0.0882534                  0.319952\n",
            "DRF_1_AutoML_1_20221023_212824                           0.567035  0.321528  0.406804  0.0884877                  0.321528\n",
            "[121 rows x 6 columns]\n",
            "\n"
          ]
        }
      ]
    },
    {
      "cell_type": "markdown",
      "source": [
        "Analyzing Best Model"
      ],
      "metadata": {
        "id": "-m4pNOU9xWnY"
      }
    },
    {
      "cell_type": "code",
      "source": [
        "best_model = h2o.get_model(aml.leaderboard[2,'model_id'])\n",
        "best_model.algo"
      ],
      "metadata": {
        "colab": {
          "base_uri": "https://localhost:8080/",
          "height": 36
        },
        "id": "MbhqaV-GxWKV",
        "outputId": "f665afce-0193-479e-d529-468433a6afd7"
      },
      "execution_count": 31,
      "outputs": [
        {
          "output_type": "execute_result",
          "data": {
            "text/plain": [
              "'stackedensemble'"
            ],
            "application/vnd.google.colaboratory.intrinsic+json": {
              "type": "string"
            }
          },
          "metadata": {},
          "execution_count": 31
        }
      ]
    },
    {
      "cell_type": "code",
      "source": [
        "import matplotlib.pyplot as plt\n",
        "%matplotlib inline\n",
        "\n",
        "import warnings\n",
        "import matplotlib.cbook\n",
        "warnings.filterwarnings(\"ignore\", category = matplotlib.cbook.mplDeprecation)"
      ],
      "metadata": {
        "id": "XIi0SH_sxvjI"
      },
      "execution_count": 32,
      "outputs": []
    },
    {
      "cell_type": "code",
      "source": [
        "best_model.varimp_plot()"
      ],
      "metadata": {
        "colab": {
          "base_uri": "https://localhost:8080/",
          "height": 287
        },
        "id": "9Cx3dXbxxza2",
        "outputId": "d34b9dc0-4761-42a0-99f8-bd165f299b0e"
      },
      "execution_count": 35,
      "outputs": [
        {
          "output_type": "error",
          "ename": "H2OValueError",
          "evalue": "ignored",
          "traceback": [
            "\u001b[0;31m---------------------------------------------------------------------------\u001b[0m",
            "\u001b[0;31mH2OValueError\u001b[0m                             Traceback (most recent call last)",
            "\u001b[0;32m<ipython-input-35-406e095746e9>\u001b[0m in \u001b[0;36m<module>\u001b[0;34m\u001b[0m\n\u001b[0;32m----> 1\u001b[0;31m \u001b[0mbest_model\u001b[0m\u001b[0;34m.\u001b[0m\u001b[0mvarimp_plot\u001b[0m\u001b[0;34m(\u001b[0m\u001b[0;34m)\u001b[0m\u001b[0;34m\u001b[0m\u001b[0;34m\u001b[0m\u001b[0m\n\u001b[0m",
            "\u001b[0;32m/usr/local/lib/python3.7/dist-packages/h2o/model/model_base.py\u001b[0m in \u001b[0;36mvarimp_plot\u001b[0;34m(self, num_of_features, server, save_plot_path)\u001b[0m\n\u001b[1;32m   1516\u001b[0m         \u001b[0;32mif\u001b[0m \u001b[0mhas_extension\u001b[0m\u001b[0;34m(\u001b[0m\u001b[0mself\u001b[0m\u001b[0;34m,\u001b[0m \u001b[0;34m'VariableImportance'\u001b[0m\u001b[0;34m)\u001b[0m\u001b[0;34m:\u001b[0m\u001b[0;34m\u001b[0m\u001b[0;34m\u001b[0m\u001b[0m\n\u001b[1;32m   1517\u001b[0m             \u001b[0;32mreturn\u001b[0m \u001b[0mself\u001b[0m\u001b[0;34m.\u001b[0m\u001b[0m_varimp_plot\u001b[0m\u001b[0;34m(\u001b[0m\u001b[0mnum_of_features\u001b[0m\u001b[0;34m=\u001b[0m\u001b[0mnum_of_features\u001b[0m\u001b[0;34m,\u001b[0m \u001b[0mserver\u001b[0m\u001b[0;34m=\u001b[0m\u001b[0mserver\u001b[0m\u001b[0;34m,\u001b[0m \u001b[0msave_plot_path\u001b[0m\u001b[0;34m=\u001b[0m\u001b[0msave_plot_path\u001b[0m\u001b[0;34m)\u001b[0m\u001b[0;34m\u001b[0m\u001b[0;34m\u001b[0m\u001b[0m\n\u001b[0;32m-> 1518\u001b[0;31m         \u001b[0;32mraise\u001b[0m \u001b[0mH2OValueError\u001b[0m\u001b[0;34m(\u001b[0m\u001b[0;34m\"Variable importance plot is not available for this type of model (%s).\"\u001b[0m \u001b[0;34m%\u001b[0m \u001b[0mself\u001b[0m\u001b[0;34m.\u001b[0m\u001b[0malgo\u001b[0m\u001b[0;34m)\u001b[0m\u001b[0;34m\u001b[0m\u001b[0;34m\u001b[0m\u001b[0m\n\u001b[0m\u001b[1;32m   1519\u001b[0m \u001b[0;34m\u001b[0m\u001b[0m\n\u001b[1;32m   1520\u001b[0m     \u001b[0;32mdef\u001b[0m \u001b[0mstd_coef_plot\u001b[0m\u001b[0;34m(\u001b[0m\u001b[0mself\u001b[0m\u001b[0;34m,\u001b[0m \u001b[0mnum_of_features\u001b[0m\u001b[0;34m=\u001b[0m\u001b[0;32mNone\u001b[0m\u001b[0;34m,\u001b[0m \u001b[0mserver\u001b[0m\u001b[0;34m=\u001b[0m\u001b[0;32mFalse\u001b[0m\u001b[0;34m,\u001b[0m \u001b[0msave_plot_path\u001b[0m\u001b[0;34m=\u001b[0m\u001b[0;32mNone\u001b[0m\u001b[0;34m)\u001b[0m\u001b[0;34m:\u001b[0m\u001b[0;34m\u001b[0m\u001b[0;34m\u001b[0m\u001b[0m\n",
            "\u001b[0;31mH2OValueError\u001b[0m: Variable importance plot is not available for this type of model (stackedensemble)."
          ]
        }
      ]
    }
  ]
}