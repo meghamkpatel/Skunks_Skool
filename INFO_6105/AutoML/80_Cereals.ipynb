{
  "nbformat": 4,
  "nbformat_minor": 0,
  "metadata": {
    "colab": {
      "provenance": [],
      "collapsed_sections": [],
      "authorship_tag": "ABX9TyOKZ/1CqahGiuOJRjib8nbM",
      "include_colab_link": true
    },
    "kernelspec": {
      "name": "python3",
      "display_name": "Python 3"
    },
    "language_info": {
      "name": "python"
    }
  },
  "cells": [
    {
      "cell_type": "markdown",
      "metadata": {
        "id": "view-in-github",
        "colab_type": "text"
      },
      "source": [
        "<a href=\"https://colab.research.google.com/github/meghamkpatel/Skunks_Skool/blob/main/INFO_6105/AutoML/Red_Wine_Quality.ipynb\" target=\"_parent\"><img src=\"https://colab.research.google.com/assets/colab-badge.svg\" alt=\"Open In Colab\"/></a>"
      ]
    },
    {
      "cell_type": "markdown",
      "source": [
        "#Data Science Engineering\n",
        "##Assignment 2 - Red Wine Quality\n",
        "*AutoML*\n",
        "_______________________________________\n"
      ],
      "metadata": {
        "id": "TQiGJXnYhgHB"
      }
    },
    {
      "cell_type": "markdown",
      "source": [
        "###Background\n",
        "to doooooo\n",
        "\n",
        "##Goal"
      ],
      "metadata": {
        "id": "98f5y5flqAns"
      }
    },
    {
      "cell_type": "markdown",
      "source": [
        "###Initializing H2O..."
      ],
      "metadata": {
        "id": "mOKqUODfiIkH"
      }
    },
    {
      "cell_type": "code",
      "source": [
        "!pip install -f http://h2o-release.s3.amazonaws.com/h2o/latest_stable_Py.html h2o"
      ],
      "metadata": {
        "colab": {
          "base_uri": "https://localhost:8080/"
        },
        "id": "LECbMq24jaUq",
        "outputId": "1f19f345-b71b-4b53-802e-18c0e3727e58"
      },
      "execution_count": 1,
      "outputs": [
        {
          "output_type": "stream",
          "name": "stdout",
          "text": [
            "Looking in indexes: https://pypi.org/simple, https://us-python.pkg.dev/colab-wheels/public/simple/\n",
            "Looking in links: http://h2o-release.s3.amazonaws.com/h2o/latest_stable_Py.html\n",
            "\u001b[33mWARNING: The repository located at h2o-release.s3.amazonaws.com is not a trusted or secure host and is being ignored. If this repository is available via HTTPS we recommend you use HTTPS instead, otherwise you may silence this warning and allow it anyway with '--trusted-host h2o-release.s3.amazonaws.com'.\u001b[0m\n",
            "Collecting h2o\n",
            "  Downloading h2o-3.38.0.1.tar.gz (177.2 MB)\n",
            "\u001b[K     |████████████████████████████████| 177.2 MB 44 kB/s \n",
            "\u001b[?25hRequirement already satisfied: requests in /usr/local/lib/python3.7/dist-packages (from h2o) (2.23.0)\n",
            "Requirement already satisfied: tabulate in /usr/local/lib/python3.7/dist-packages (from h2o) (0.8.10)\n",
            "Requirement already satisfied: future in /usr/local/lib/python3.7/dist-packages (from h2o) (0.16.0)\n",
            "Requirement already satisfied: chardet<4,>=3.0.2 in /usr/local/lib/python3.7/dist-packages (from requests->h2o) (3.0.4)\n",
            "Requirement already satisfied: urllib3!=1.25.0,!=1.25.1,<1.26,>=1.21.1 in /usr/local/lib/python3.7/dist-packages (from requests->h2o) (1.24.3)\n",
            "Requirement already satisfied: idna<3,>=2.5 in /usr/local/lib/python3.7/dist-packages (from requests->h2o) (2.10)\n",
            "Requirement already satisfied: certifi>=2017.4.17 in /usr/local/lib/python3.7/dist-packages (from requests->h2o) (2022.9.24)\n",
            "Building wheels for collected packages: h2o\n",
            "  Building wheel for h2o (setup.py) ... \u001b[?25l\u001b[?25hdone\n",
            "  Created wheel for h2o: filename=h2o-3.38.0.1-py2.py3-none-any.whl size=177276478 sha256=6f27bb960593b4e736b978cdca893fd98f7157aab4ef244c78912d225ceb2d57\n",
            "  Stored in directory: /root/.cache/pip/wheels/a1/a1/d9/bb37df368c4635a707e7362d1088450b606041f05aeba5f173\n",
            "Successfully built h2o\n",
            "Installing collected packages: h2o\n",
            "Successfully installed h2o-3.38.0.1\n"
          ]
        }
      ]
    },
    {
      "cell_type": "code",
      "execution_count": 2,
      "metadata": {
        "id": "F9X7-MLqgw_8"
      },
      "outputs": [],
      "source": [
        "%matplotlib inline\n",
        "import random, os, sys\n",
        "import h2o\n",
        "import pandas\n",
        "import pprint\n",
        "import operator\n",
        "import matplotlib\n",
        "from h2o.estimators.glm import H2OGeneralizedLinearEstimator\n",
        "from h2o.estimators.gbm import H2OGradientBoostingEstimator\n",
        "from h2o.estimators.random_forest import H2ORandomForestEstimator\n",
        "from h2o.estimators.deeplearning import H2ODeepLearningEstimator\n",
        "from tabulate import tabulate\n",
        "from h2o.automl import H2OAutoML\n",
        "from datetime import datetime\n",
        "import pandas as pd\n",
        "import logging\n",
        "import csv\n",
        "import optparse\n",
        "import time\n",
        "import json\n",
        "from distutils.util import strtobool\n",
        "import psutil\n",
        "import numpy as np"
      ]
    },
    {
      "cell_type": "code",
      "source": [
        "min_mem_size=6 \n",
        "run_time=222"
      ],
      "metadata": {
        "id": "OoLkykO2tu-S"
      },
      "execution_count": 3,
      "outputs": []
    },
    {
      "cell_type": "code",
      "source": [
        "pct_memory=0.5\n",
        "virtual_memory=psutil.virtual_memory()\n",
        "min_mem_size=int(round(int(pct_memory*virtual_memory.available)/1073741824,0))\n",
        "print(min_mem_size)"
      ],
      "metadata": {
        "colab": {
          "base_uri": "https://localhost:8080/"
        },
        "id": "5FcU8dnauM_J",
        "outputId": "5062039c-afa5-490a-bbad-135aa55fc65d"
      },
      "execution_count": 4,
      "outputs": [
        {
          "output_type": "stream",
          "name": "stdout",
          "text": [
            "6\n"
          ]
        }
      ]
    },
    {
      "cell_type": "code",
      "source": [
        "#installing dependencies\n",
        "!pip install eli5\n",
        "!pip install -q kaggle"
      ],
      "metadata": {
        "colab": {
          "base_uri": "https://localhost:8080/"
        },
        "id": "JsqNWl19i7W5",
        "outputId": "281ffdab-112b-4898-a084-4200bff5ee0c"
      },
      "execution_count": 5,
      "outputs": [
        {
          "output_type": "stream",
          "name": "stdout",
          "text": [
            "Looking in indexes: https://pypi.org/simple, https://us-python.pkg.dev/colab-wheels/public/simple/\n",
            "Collecting eli5\n",
            "  Downloading eli5-0.13.0.tar.gz (216 kB)\n",
            "\u001b[K     |████████████████████████████████| 216 kB 8.4 MB/s \n",
            "\u001b[?25hRequirement already satisfied: attrs>17.1.0 in /usr/local/lib/python3.7/dist-packages (from eli5) (22.1.0)\n",
            "Collecting jinja2>=3.0.0\n",
            "  Downloading Jinja2-3.1.2-py3-none-any.whl (133 kB)\n",
            "\u001b[K     |████████████████████████████████| 133 kB 60.6 MB/s \n",
            "\u001b[?25hRequirement already satisfied: numpy>=1.9.0 in /usr/local/lib/python3.7/dist-packages (from eli5) (1.21.6)\n",
            "Requirement already satisfied: scipy in /usr/local/lib/python3.7/dist-packages (from eli5) (1.7.3)\n",
            "Requirement already satisfied: six in /usr/local/lib/python3.7/dist-packages (from eli5) (1.15.0)\n",
            "Requirement already satisfied: scikit-learn>=0.20 in /usr/local/lib/python3.7/dist-packages (from eli5) (1.0.2)\n",
            "Requirement already satisfied: graphviz in /usr/local/lib/python3.7/dist-packages (from eli5) (0.10.1)\n",
            "Requirement already satisfied: tabulate>=0.7.7 in /usr/local/lib/python3.7/dist-packages (from eli5) (0.8.10)\n",
            "Requirement already satisfied: MarkupSafe>=2.0 in /usr/local/lib/python3.7/dist-packages (from jinja2>=3.0.0->eli5) (2.0.1)\n",
            "Requirement already satisfied: joblib>=0.11 in /usr/local/lib/python3.7/dist-packages (from scikit-learn>=0.20->eli5) (1.2.0)\n",
            "Requirement already satisfied: threadpoolctl>=2.0.0 in /usr/local/lib/python3.7/dist-packages (from scikit-learn>=0.20->eli5) (3.1.0)\n",
            "Building wheels for collected packages: eli5\n",
            "  Building wheel for eli5 (setup.py) ... \u001b[?25l\u001b[?25hdone\n",
            "  Created wheel for eli5: filename=eli5-0.13.0-py2.py3-none-any.whl size=107748 sha256=b250de1427109b340a3917fa8acc785837f848a45a14e8d580a1d1cb278b4144\n",
            "  Stored in directory: /root/.cache/pip/wheels/cc/3c/96/3ead31a8e6c20fc0f1a707fde2e05d49a80b1b4b30096573be\n",
            "Successfully built eli5\n",
            "Installing collected packages: jinja2, eli5\n",
            "  Attempting uninstall: jinja2\n",
            "    Found existing installation: Jinja2 2.11.3\n",
            "    Uninstalling Jinja2-2.11.3:\n",
            "      Successfully uninstalled Jinja2-2.11.3\n",
            "\u001b[31mERROR: pip's dependency resolver does not currently take into account all the packages that are installed. This behaviour is the source of the following dependency conflicts.\n",
            "flask 1.1.4 requires Jinja2<3.0,>=2.10.1, but you have jinja2 3.1.2 which is incompatible.\u001b[0m\n",
            "Successfully installed eli5-0.13.0 jinja2-3.1.2\n"
          ]
        }
      ]
    },
    {
      "cell_type": "code",
      "source": [
        "#making a directory for kaggle api\n",
        "from google.colab import files\n",
        "files.upload()\n",
        "! mkdir ~/.kaggle\n",
        "! cp kaggle.json ~/.kaggle/\n",
        "! chmod 600 ~/.kaggle/kaggle.json"
      ],
      "metadata": {
        "colab": {
          "base_uri": "https://localhost:8080/",
          "height": 74
        },
        "id": "BZQ9vE8li9Q5",
        "outputId": "79ec8695-392a-4d5c-9a0a-e1bb0ad32c1a"
      },
      "execution_count": 6,
      "outputs": [
        {
          "output_type": "display_data",
          "data": {
            "text/plain": [
              "<IPython.core.display.HTML object>"
            ],
            "text/html": [
              "\n",
              "     <input type=\"file\" id=\"files-3a313668-6877-4333-9567-b9e40abbc735\" name=\"files[]\" multiple disabled\n",
              "        style=\"border:none\" />\n",
              "     <output id=\"result-3a313668-6877-4333-9567-b9e40abbc735\">\n",
              "      Upload widget is only available when the cell has been executed in the\n",
              "      current browser session. Please rerun this cell to enable.\n",
              "      </output>\n",
              "      <script>// Copyright 2017 Google LLC\n",
              "//\n",
              "// Licensed under the Apache License, Version 2.0 (the \"License\");\n",
              "// you may not use this file except in compliance with the License.\n",
              "// You may obtain a copy of the License at\n",
              "//\n",
              "//      http://www.apache.org/licenses/LICENSE-2.0\n",
              "//\n",
              "// Unless required by applicable law or agreed to in writing, software\n",
              "// distributed under the License is distributed on an \"AS IS\" BASIS,\n",
              "// WITHOUT WARRANTIES OR CONDITIONS OF ANY KIND, either express or implied.\n",
              "// See the License for the specific language governing permissions and\n",
              "// limitations under the License.\n",
              "\n",
              "/**\n",
              " * @fileoverview Helpers for google.colab Python module.\n",
              " */\n",
              "(function(scope) {\n",
              "function span(text, styleAttributes = {}) {\n",
              "  const element = document.createElement('span');\n",
              "  element.textContent = text;\n",
              "  for (const key of Object.keys(styleAttributes)) {\n",
              "    element.style[key] = styleAttributes[key];\n",
              "  }\n",
              "  return element;\n",
              "}\n",
              "\n",
              "// Max number of bytes which will be uploaded at a time.\n",
              "const MAX_PAYLOAD_SIZE = 100 * 1024;\n",
              "\n",
              "function _uploadFiles(inputId, outputId) {\n",
              "  const steps = uploadFilesStep(inputId, outputId);\n",
              "  const outputElement = document.getElementById(outputId);\n",
              "  // Cache steps on the outputElement to make it available for the next call\n",
              "  // to uploadFilesContinue from Python.\n",
              "  outputElement.steps = steps;\n",
              "\n",
              "  return _uploadFilesContinue(outputId);\n",
              "}\n",
              "\n",
              "// This is roughly an async generator (not supported in the browser yet),\n",
              "// where there are multiple asynchronous steps and the Python side is going\n",
              "// to poll for completion of each step.\n",
              "// This uses a Promise to block the python side on completion of each step,\n",
              "// then passes the result of the previous step as the input to the next step.\n",
              "function _uploadFilesContinue(outputId) {\n",
              "  const outputElement = document.getElementById(outputId);\n",
              "  const steps = outputElement.steps;\n",
              "\n",
              "  const next = steps.next(outputElement.lastPromiseValue);\n",
              "  return Promise.resolve(next.value.promise).then((value) => {\n",
              "    // Cache the last promise value to make it available to the next\n",
              "    // step of the generator.\n",
              "    outputElement.lastPromiseValue = value;\n",
              "    return next.value.response;\n",
              "  });\n",
              "}\n",
              "\n",
              "/**\n",
              " * Generator function which is called between each async step of the upload\n",
              " * process.\n",
              " * @param {string} inputId Element ID of the input file picker element.\n",
              " * @param {string} outputId Element ID of the output display.\n",
              " * @return {!Iterable<!Object>} Iterable of next steps.\n",
              " */\n",
              "function* uploadFilesStep(inputId, outputId) {\n",
              "  const inputElement = document.getElementById(inputId);\n",
              "  inputElement.disabled = false;\n",
              "\n",
              "  const outputElement = document.getElementById(outputId);\n",
              "  outputElement.innerHTML = '';\n",
              "\n",
              "  const pickedPromise = new Promise((resolve) => {\n",
              "    inputElement.addEventListener('change', (e) => {\n",
              "      resolve(e.target.files);\n",
              "    });\n",
              "  });\n",
              "\n",
              "  const cancel = document.createElement('button');\n",
              "  inputElement.parentElement.appendChild(cancel);\n",
              "  cancel.textContent = 'Cancel upload';\n",
              "  const cancelPromise = new Promise((resolve) => {\n",
              "    cancel.onclick = () => {\n",
              "      resolve(null);\n",
              "    };\n",
              "  });\n",
              "\n",
              "  // Wait for the user to pick the files.\n",
              "  const files = yield {\n",
              "    promise: Promise.race([pickedPromise, cancelPromise]),\n",
              "    response: {\n",
              "      action: 'starting',\n",
              "    }\n",
              "  };\n",
              "\n",
              "  cancel.remove();\n",
              "\n",
              "  // Disable the input element since further picks are not allowed.\n",
              "  inputElement.disabled = true;\n",
              "\n",
              "  if (!files) {\n",
              "    return {\n",
              "      response: {\n",
              "        action: 'complete',\n",
              "      }\n",
              "    };\n",
              "  }\n",
              "\n",
              "  for (const file of files) {\n",
              "    const li = document.createElement('li');\n",
              "    li.append(span(file.name, {fontWeight: 'bold'}));\n",
              "    li.append(span(\n",
              "        `(${file.type || 'n/a'}) - ${file.size} bytes, ` +\n",
              "        `last modified: ${\n",
              "            file.lastModifiedDate ? file.lastModifiedDate.toLocaleDateString() :\n",
              "                                    'n/a'} - `));\n",
              "    const percent = span('0% done');\n",
              "    li.appendChild(percent);\n",
              "\n",
              "    outputElement.appendChild(li);\n",
              "\n",
              "    const fileDataPromise = new Promise((resolve) => {\n",
              "      const reader = new FileReader();\n",
              "      reader.onload = (e) => {\n",
              "        resolve(e.target.result);\n",
              "      };\n",
              "      reader.readAsArrayBuffer(file);\n",
              "    });\n",
              "    // Wait for the data to be ready.\n",
              "    let fileData = yield {\n",
              "      promise: fileDataPromise,\n",
              "      response: {\n",
              "        action: 'continue',\n",
              "      }\n",
              "    };\n",
              "\n",
              "    // Use a chunked sending to avoid message size limits. See b/62115660.\n",
              "    let position = 0;\n",
              "    do {\n",
              "      const length = Math.min(fileData.byteLength - position, MAX_PAYLOAD_SIZE);\n",
              "      const chunk = new Uint8Array(fileData, position, length);\n",
              "      position += length;\n",
              "\n",
              "      const base64 = btoa(String.fromCharCode.apply(null, chunk));\n",
              "      yield {\n",
              "        response: {\n",
              "          action: 'append',\n",
              "          file: file.name,\n",
              "          data: base64,\n",
              "        },\n",
              "      };\n",
              "\n",
              "      let percentDone = fileData.byteLength === 0 ?\n",
              "          100 :\n",
              "          Math.round((position / fileData.byteLength) * 100);\n",
              "      percent.textContent = `${percentDone}% done`;\n",
              "\n",
              "    } while (position < fileData.byteLength);\n",
              "  }\n",
              "\n",
              "  // All done.\n",
              "  yield {\n",
              "    response: {\n",
              "      action: 'complete',\n",
              "    }\n",
              "  };\n",
              "}\n",
              "\n",
              "scope.google = scope.google || {};\n",
              "scope.google.colab = scope.google.colab || {};\n",
              "scope.google.colab._files = {\n",
              "  _uploadFiles,\n",
              "  _uploadFilesContinue,\n",
              "};\n",
              "})(self);\n",
              "</script> "
            ]
          },
          "metadata": {}
        },
        {
          "output_type": "stream",
          "name": "stdout",
          "text": [
            "Saving kaggle.json to kaggle.json\n"
          ]
        }
      ]
    },
    {
      "cell_type": "code",
      "source": [
        "#downloading and reading the red wine dataset\n",
        "! kaggle datasets list -s 'red wine quality' # searching through kaggle with keyword 'red wine'\n",
        "! kaggle datasets download -d uciml/red-wine-quality-cortez-et-al-2009\n",
        "!unzip red-wine-quality-cortez-et-al-2009.zip"
      ],
      "metadata": {
        "colab": {
          "base_uri": "https://localhost:8080/"
        },
        "id": "ZXdNthsbjGbC",
        "outputId": "b8ea18c7-8d83-4fb0-cb68-05ed615dd5f0"
      },
      "execution_count": 7,
      "outputs": [
        {
          "output_type": "stream",
          "name": "stdout",
          "text": [
            "ref                                                title                                      size  lastUpdated          downloadCount  voteCount  usabilityRating  \n",
            "-------------------------------------------------  ----------------------------------------  -----  -------------------  -------------  ---------  ---------------  \n",
            "uciml/red-wine-quality-cortez-et-al-2009           Red Wine Quality                           26KB  2017-11-27 23:41:08         152201       2225  0.88235295       \n",
            "ruthgn/wine-quality-data-set-red-white-wine        Wine Quality Data Set (Red & White Wine)   98KB  2021-11-03 01:26:46           1450         38  1.0              \n",
            "yasserh/wine-quality-dataset                       Wine Quality Dataset                       21KB  2022-01-15 19:15:11          18427        454  1.0              \n",
            "pritsheta/redwinequality                           RED-WINE-QUALITY                           26KB  2021-08-30 05:58:27            122         18  0.9705882        \n",
            "piyushgoyal443/red-wine-dataset                    Red Wine Dataset                           29KB  2017-03-05 03:38:35           9925         82  0.85294116       \n",
            "fedesoriano/spanish-wine-quality-dataset           Spanish Wine Quality Dataset               46KB  2022-04-26 19:31:40           2493         79  1.0              \n",
            "brendan45774/wine-quality                          Wine Quality                               95KB  2021-09-23 13:21:17            634         36  1.0              \n",
            "rajyellow46/wine-quality                           Wine Quality                               98KB  2018-07-09 16:08:15          23184        198  0.7058824        \n",
            "piyushagni5/white-wine-quality                     White Wine Quality                         73KB  2020-09-28 11:10:37           5549         34  0.88235295       \n",
            "danielpanizzo/wine-quality                         Wine Quality                              108KB  2017-10-29 19:56:48           4783         39  0.7352941        \n",
            "nareshbhat/wine-quality-binary-classification      Wine Quality Classification                25KB  2020-07-23 06:16:08           2878         40  0.5882353        \n",
            "turhancankargin/wine-quality-red-and-white         Wine Quality (Red and White)              116KB  2020-07-29 17:15:06            230          6  0.64705884       \n",
            "xuzihe2010/wine-quality-red                        Wine Quality - red or white?               95KB  2018-02-03 05:05:33            449          6  0.5882353        \n",
            "fedesoriano/stellar-classification-dataset-sdss17  Stellar Classification Dataset - SDSS17     7MB  2022-01-15 17:11:30           4056        148  1.0              \n",
            "gauravduttakiit/white-wine-quality                 White Wine Quality                         89KB  2022-09-10 17:12:20            149         13  0.7058824        \n",
            "shelvigarg/wine-quality-dataset                    Wine Quality Dataset                       98KB  2021-09-15 07:00:12           2113         24  0.8235294        \n",
            "saigeethac/red-and-white-wine-quality-datasets     Red and White Wine Quality Analysis        95KB  2021-12-06 11:37:41            121          2  0.85294116       \n",
            "midouazerty/redwine                                red wine data                              26KB  2020-07-21 01:18:29             36         11  0.29411766       \n",
            "siyuanh/combined-wine-data                         combined wine data                        112KB  2017-11-25 07:56:12            607          9  0.7058824        \n",
            "greatdk/wine-quality-dataset                       Wine Quality Dataset                       95KB  2020-03-06 15:37:32            235          6  0.5882353        \n",
            "Downloading red-wine-quality-cortez-et-al-2009.zip to /content\n",
            "  0% 0.00/25.6k [00:00<?, ?B/s]\n",
            "100% 25.6k/25.6k [00:00<00:00, 16.8MB/s]\n",
            "Archive:  red-wine-quality-cortez-et-al-2009.zip\n",
            "  inflating: winequality-red.csv     \n"
          ]
        }
      ]
    },
    {
      "cell_type": "code",
      "source": [
        "h2o.init(strict_version_check=False) # start h2o"
      ],
      "metadata": {
        "id": "dVu_k-SFk9B-",
        "outputId": "74115b92-e01f-4886-d3f7-5ffdc70dfd78",
        "colab": {
          "base_uri": "https://localhost:8080/",
          "height": 537
        }
      },
      "execution_count": 8,
      "outputs": [
        {
          "output_type": "stream",
          "name": "stdout",
          "text": [
            "Checking whether there is an H2O instance running at http://localhost:54321 ..... not found.\n",
            "Attempting to start a local H2O server...\n",
            "  Java Version: openjdk version \"11.0.16\" 2022-07-19; OpenJDK Runtime Environment (build 11.0.16+8-post-Ubuntu-0ubuntu118.04); OpenJDK 64-Bit Server VM (build 11.0.16+8-post-Ubuntu-0ubuntu118.04, mixed mode, sharing)\n",
            "  Starting server from /usr/local/lib/python3.7/dist-packages/h2o/backend/bin/h2o.jar\n",
            "  Ice root: /tmp/tmp2v59fkgd\n",
            "  JVM stdout: /tmp/tmp2v59fkgd/h2o_unknownUser_started_from_python.out\n",
            "  JVM stderr: /tmp/tmp2v59fkgd/h2o_unknownUser_started_from_python.err\n",
            "  Server is running at http://127.0.0.1:54321\n",
            "Connecting to H2O server at http://127.0.0.1:54321 ... successful.\n"
          ]
        },
        {
          "output_type": "display_data",
          "data": {
            "text/plain": [
              "--------------------------  ----------------------------------\n",
              "H2O_cluster_uptime:         03 secs\n",
              "H2O_cluster_timezone:       Etc/UTC\n",
              "H2O_data_parsing_timezone:  UTC\n",
              "H2O_cluster_version:        3.38.0.1\n",
              "H2O_cluster_version_age:    1 month and 5 days\n",
              "H2O_cluster_name:           H2O_from_python_unknownUser_vbpzj9\n",
              "H2O_cluster_total_nodes:    1\n",
              "H2O_cluster_free_memory:    3.172 Gb\n",
              "H2O_cluster_total_cores:    2\n",
              "H2O_cluster_allowed_cores:  2\n",
              "H2O_cluster_status:         locked, healthy\n",
              "H2O_connection_url:         http://127.0.0.1:54321\n",
              "H2O_connection_proxy:       {\"http\": null, \"https\": null}\n",
              "H2O_internal_security:      False\n",
              "Python_version:             3.7.15 final\n",
              "--------------------------  ----------------------------------"
            ],
            "text/html": [
              "\n",
              "<style>\n",
              "\n",
              "#h2o-table-1.h2o-container {\n",
              "  overflow-x: auto;\n",
              "}\n",
              "#h2o-table-1 .h2o-table {\n",
              "  /* width: 100%; */\n",
              "  margin-top: 1em;\n",
              "  margin-bottom: 1em;\n",
              "}\n",
              "#h2o-table-1 .h2o-table caption {\n",
              "  white-space: nowrap;\n",
              "  caption-side: top;\n",
              "  text-align: left;\n",
              "  /* margin-left: 1em; */\n",
              "  margin: 0;\n",
              "  font-size: larger;\n",
              "}\n",
              "#h2o-table-1 .h2o-table thead {\n",
              "  white-space: nowrap; \n",
              "  position: sticky;\n",
              "  top: 0;\n",
              "  box-shadow: 0 -1px inset;\n",
              "}\n",
              "#h2o-table-1 .h2o-table tbody {\n",
              "  overflow: auto;\n",
              "}\n",
              "#h2o-table-1 .h2o-table th,\n",
              "#h2o-table-1 .h2o-table td {\n",
              "  text-align: right;\n",
              "  /* border: 1px solid; */\n",
              "}\n",
              "#h2o-table-1 .h2o-table tr:nth-child(even) {\n",
              "  /* background: #F5F5F5 */\n",
              "}\n",
              "\n",
              "</style>      \n",
              "<div id=\"h2o-table-1\" class=\"h2o-container\">\n",
              "  <table class=\"h2o-table\">\n",
              "    <caption></caption>\n",
              "    <thead></thead>\n",
              "    <tbody><tr><td>H2O_cluster_uptime:</td>\n",
              "<td>03 secs</td></tr>\n",
              "<tr><td>H2O_cluster_timezone:</td>\n",
              "<td>Etc/UTC</td></tr>\n",
              "<tr><td>H2O_data_parsing_timezone:</td>\n",
              "<td>UTC</td></tr>\n",
              "<tr><td>H2O_cluster_version:</td>\n",
              "<td>3.38.0.1</td></tr>\n",
              "<tr><td>H2O_cluster_version_age:</td>\n",
              "<td>1 month and 5 days </td></tr>\n",
              "<tr><td>H2O_cluster_name:</td>\n",
              "<td>H2O_from_python_unknownUser_vbpzj9</td></tr>\n",
              "<tr><td>H2O_cluster_total_nodes:</td>\n",
              "<td>1</td></tr>\n",
              "<tr><td>H2O_cluster_free_memory:</td>\n",
              "<td>3.172 Gb</td></tr>\n",
              "<tr><td>H2O_cluster_total_cores:</td>\n",
              "<td>2</td></tr>\n",
              "<tr><td>H2O_cluster_allowed_cores:</td>\n",
              "<td>2</td></tr>\n",
              "<tr><td>H2O_cluster_status:</td>\n",
              "<td>locked, healthy</td></tr>\n",
              "<tr><td>H2O_connection_url:</td>\n",
              "<td>http://127.0.0.1:54321</td></tr>\n",
              "<tr><td>H2O_connection_proxy:</td>\n",
              "<td>{\"http\": null, \"https\": null}</td></tr>\n",
              "<tr><td>H2O_internal_security:</td>\n",
              "<td>False</td></tr>\n",
              "<tr><td>Python_version:</td>\n",
              "<td>3.7.15 final</td></tr></tbody>\n",
              "  </table>\n",
              "</div>\n"
            ]
          },
          "metadata": {}
        }
      ]
    },
    {
      "cell_type": "code",
      "source": [
        "# set this to True if interactive (matplotlib) plots are desired\n",
        "interactive = True\n",
        "if not interactive: matplotlib.use('Agg', warn=False)\n",
        "import matplotlib.pyplot as plt"
      ],
      "metadata": {
        "id": "Hr4gn8FHmBrd"
      },
      "execution_count": 9,
      "outputs": []
    },
    {
      "cell_type": "code",
      "source": [
        "#Viewing data in the file \n",
        "data = h2o.import_file(\"winequality-red.csv\")\n",
        "data.shape\n",
        "data.describe()\n",
        "data.head()\n"
      ],
      "metadata": {
        "colab": {
          "base_uri": "https://localhost:8080/",
          "height": 1000
        },
        "id": "S01xMKaekqo6",
        "outputId": "2fc7f44b-8542-4f6f-fef9-743d51ff986d"
      },
      "execution_count": 10,
      "outputs": [
        {
          "output_type": "stream",
          "name": "stdout",
          "text": [
            "Parse progress: |████████████████████████████████████████████████████████████████| (done) 100%\n"
          ]
        },
        {
          "output_type": "display_data",
          "data": {
            "text/plain": [
              "Rows:1599\n",
              "Cols:12\n"
            ],
            "text/html": [
              "<pre style='margin: 1em 0 1em 0;'>Rows:1599\n",
              "Cols:12\n",
              "</pre>"
            ]
          },
          "metadata": {}
        },
        {
          "output_type": "display_data",
          "data": {
            "text/plain": [
              "         fixed acidity       volatile acidity     citric acid         residual sugar      chlorides            free sulfur dioxide    total sulfur dioxide    density                pH                  sulphates            alcohol             quality\n",
              "-------  ------------------  -------------------  ------------------  ------------------  -------------------  ---------------------  ----------------------  ---------------------  ------------------  -------------------  ------------------  ------------------\n",
              "type     real                real                 real                real                real                 real                   real                    real                   real                real                 real                int\n",
              "mins     4.6                 0.12                 0.0                 0.9                 0.012                1.0                    6.0                     0.99007                2.74                0.33                 8.4                 3.0\n",
              "mean     8.31963727329581    0.5278205128205127   0.2709756097560977  2.53880550343965    0.08746654158849282  15.874921826141343     46.46779237023139       0.996746679174484      3.3111131957473416  0.6581488430268919   10.422983114446529  5.636022514071294\n",
              "maxs     15.9                1.58                 1.0                 15.5                0.611                72.0                   289.0                   1.00369                4.01                2.0                  14.9                8.0\n",
              "sigma    1.7410963181276957  0.17905970415353537  0.1948011374053186  1.4099280595072798  0.0470653020100901   10.460156969809725     32.895324478299074      0.0018873339538425153  0.1543864649035426  0.16950697959010994  1.0656675818473942  0.8075694397347049\n",
              "zeros    0                   0                    132                 0                   0                    0                      0                       0                      0                   0                    0                   0\n",
              "missing  0                   0                    0                   0                   0                    0                      0                       0                      0                   0                    0                   0\n",
              "0        7.4                 0.7                  0.0                 1.9                 0.076                11.0                   34.0                    0.9978                 3.51                0.56                 9.4                 5.0\n",
              "1        7.8                 0.88                 0.0                 2.6                 0.098                25.0                   67.0                    0.9968                 3.2                 0.68                 9.8                 5.0\n",
              "2        7.8                 0.76                 0.04                2.3                 0.092                15.0                   54.0                    0.997                  3.26                0.65                 9.8                 5.0\n",
              "3        11.2                0.28                 0.56                1.9                 0.075                17.0                   60.0                    0.998                  3.16                0.58                 9.8                 6.0\n",
              "4        7.4                 0.7                  0.0                 1.9                 0.076                11.0                   34.0                    0.9978                 3.51                0.56                 9.4                 5.0\n",
              "5        7.4                 0.66                 0.0                 1.8                 0.075                13.0                   40.0                    0.9978                 3.51                0.56                 9.4                 5.0\n",
              "6        7.9                 0.6                  0.06                1.6                 0.069                15.0                   59.0                    0.9964                 3.3                 0.46                 9.4                 5.0\n",
              "7        7.3                 0.65                 0.0                 1.2                 0.065                15.0                   21.0                    0.9946                 3.39                0.47                 10.0                7.0\n",
              "8        7.8                 0.58                 0.02                2.0                 0.073                9.0                    18.0                    0.9968                 3.36                0.57                 9.5                 7.0\n",
              "9        7.5                 0.5                  0.36                6.1                 0.071                17.0                   102.0                   0.9978                 3.35                0.8                  10.5                5.0\n",
              "[1599 rows x 12 columns]\n"
            ],
            "text/html": [
              "<table class='dataframe'>\n",
              "<thead>\n",
              "<tr><th>       </th><th>fixed acidity     </th><th>volatile acidity   </th><th>citric acid       </th><th>residual sugar    </th><th>chlorides          </th><th>free sulfur dioxide  </th><th>total sulfur dioxide  </th><th>density              </th><th>pH                </th><th>sulphates          </th><th>alcohol           </th><th>quality           </th></tr>\n",
              "</thead>\n",
              "<tbody>\n",
              "<tr><td>type   </td><td>real              </td><td>real               </td><td>real              </td><td>real              </td><td>real               </td><td>real                 </td><td>real                  </td><td>real                 </td><td>real              </td><td>real               </td><td>real              </td><td>int               </td></tr>\n",
              "<tr><td>mins   </td><td>4.6               </td><td>0.12               </td><td>0.0               </td><td>0.9               </td><td>0.012              </td><td>1.0                  </td><td>6.0                   </td><td>0.99007              </td><td>2.74              </td><td>0.33               </td><td>8.4               </td><td>3.0               </td></tr>\n",
              "<tr><td>mean   </td><td>8.31963727329581  </td><td>0.5278205128205127 </td><td>0.2709756097560977</td><td>2.53880550343965  </td><td>0.08746654158849282</td><td>15.874921826141343   </td><td>46.46779237023139     </td><td>0.996746679174484    </td><td>3.3111131957473416</td><td>0.6581488430268919 </td><td>10.422983114446529</td><td>5.636022514071294 </td></tr>\n",
              "<tr><td>maxs   </td><td>15.9              </td><td>1.58               </td><td>1.0               </td><td>15.5              </td><td>0.611              </td><td>72.0                 </td><td>289.0                 </td><td>1.00369              </td><td>4.01              </td><td>2.0                </td><td>14.9              </td><td>8.0               </td></tr>\n",
              "<tr><td>sigma  </td><td>1.7410963181276957</td><td>0.17905970415353537</td><td>0.1948011374053186</td><td>1.4099280595072798</td><td>0.0470653020100901 </td><td>10.460156969809725   </td><td>32.895324478299074    </td><td>0.0018873339538425153</td><td>0.1543864649035426</td><td>0.16950697959010994</td><td>1.0656675818473942</td><td>0.8075694397347049</td></tr>\n",
              "<tr><td>zeros  </td><td>0                 </td><td>0                  </td><td>132               </td><td>0                 </td><td>0                  </td><td>0                    </td><td>0                     </td><td>0                    </td><td>0                 </td><td>0                  </td><td>0                 </td><td>0                 </td></tr>\n",
              "<tr><td>missing</td><td>0                 </td><td>0                  </td><td>0                 </td><td>0                 </td><td>0                  </td><td>0                    </td><td>0                     </td><td>0                    </td><td>0                 </td><td>0                  </td><td>0                 </td><td>0                 </td></tr>\n",
              "<tr><td>0      </td><td>7.4               </td><td>0.7                </td><td>0.0               </td><td>1.9               </td><td>0.076              </td><td>11.0                 </td><td>34.0                  </td><td>0.9978               </td><td>3.51              </td><td>0.56               </td><td>9.4               </td><td>5.0               </td></tr>\n",
              "<tr><td>1      </td><td>7.8               </td><td>0.88               </td><td>0.0               </td><td>2.6               </td><td>0.098              </td><td>25.0                 </td><td>67.0                  </td><td>0.9968               </td><td>3.2               </td><td>0.68               </td><td>9.8               </td><td>5.0               </td></tr>\n",
              "<tr><td>2      </td><td>7.8               </td><td>0.76               </td><td>0.04              </td><td>2.3               </td><td>0.092              </td><td>15.0                 </td><td>54.0                  </td><td>0.997                </td><td>3.26              </td><td>0.65               </td><td>9.8               </td><td>5.0               </td></tr>\n",
              "<tr><td>3      </td><td>11.2              </td><td>0.28               </td><td>0.56              </td><td>1.9               </td><td>0.075              </td><td>17.0                 </td><td>60.0                  </td><td>0.998                </td><td>3.16              </td><td>0.58               </td><td>9.8               </td><td>6.0               </td></tr>\n",
              "<tr><td>4      </td><td>7.4               </td><td>0.7                </td><td>0.0               </td><td>1.9               </td><td>0.076              </td><td>11.0                 </td><td>34.0                  </td><td>0.9978               </td><td>3.51              </td><td>0.56               </td><td>9.4               </td><td>5.0               </td></tr>\n",
              "<tr><td>5      </td><td>7.4               </td><td>0.66               </td><td>0.0               </td><td>1.8               </td><td>0.075              </td><td>13.0                 </td><td>40.0                  </td><td>0.9978               </td><td>3.51              </td><td>0.56               </td><td>9.4               </td><td>5.0               </td></tr>\n",
              "<tr><td>6      </td><td>7.9               </td><td>0.6                </td><td>0.06              </td><td>1.6               </td><td>0.069              </td><td>15.0                 </td><td>59.0                  </td><td>0.9964               </td><td>3.3               </td><td>0.46               </td><td>9.4               </td><td>5.0               </td></tr>\n",
              "<tr><td>7      </td><td>7.3               </td><td>0.65               </td><td>0.0               </td><td>1.2               </td><td>0.065              </td><td>15.0                 </td><td>21.0                  </td><td>0.9946               </td><td>3.39              </td><td>0.47               </td><td>10.0              </td><td>7.0               </td></tr>\n",
              "<tr><td>8      </td><td>7.8               </td><td>0.58               </td><td>0.02              </td><td>2.0               </td><td>0.073              </td><td>9.0                  </td><td>18.0                  </td><td>0.9968               </td><td>3.36              </td><td>0.57               </td><td>9.5               </td><td>7.0               </td></tr>\n",
              "<tr><td>9      </td><td>7.5               </td><td>0.5                </td><td>0.36              </td><td>6.1               </td><td>0.071              </td><td>17.0                 </td><td>102.0                 </td><td>0.9978               </td><td>3.35              </td><td>0.8                </td><td>10.5              </td><td>5.0               </td></tr>\n",
              "</tbody>\n",
              "</table><pre style='font-size: smaller; margin-bottom: 1em;'>[1599 rows x 12 columns]</pre>"
            ]
          },
          "metadata": {}
        },
        {
          "output_type": "execute_result",
          "data": {
            "text/plain": [
              "  fixed acidity    volatile acidity    citric acid    residual sugar    chlorides    free sulfur dioxide    total sulfur dioxide    density    pH    sulphates    alcohol    quality\n",
              "---------------  ------------------  -------------  ----------------  -----------  ---------------------  ----------------------  ---------  ----  -----------  ---------  ---------\n",
              "            7.4                0.7            0                  1.9        0.076                     11                      34     0.9978  3.51         0.56        9.4          5\n",
              "            7.8                0.88           0                  2.6        0.098                     25                      67     0.9968  3.2          0.68        9.8          5\n",
              "            7.8                0.76           0.04               2.3        0.092                     15                      54     0.997   3.26         0.65        9.8          5\n",
              "           11.2                0.28           0.56               1.9        0.075                     17                      60     0.998   3.16         0.58        9.8          6\n",
              "            7.4                0.7            0                  1.9        0.076                     11                      34     0.9978  3.51         0.56        9.4          5\n",
              "            7.4                0.66           0                  1.8        0.075                     13                      40     0.9978  3.51         0.56        9.4          5\n",
              "            7.9                0.6            0.06               1.6        0.069                     15                      59     0.9964  3.3          0.46        9.4          5\n",
              "            7.3                0.65           0                  1.2        0.065                     15                      21     0.9946  3.39         0.47       10            7\n",
              "            7.8                0.58           0.02               2          0.073                      9                      18     0.9968  3.36         0.57        9.5          7\n",
              "            7.5                0.5            0.36               6.1        0.071                     17                     102     0.9978  3.35         0.8        10.5          5\n",
              "[10 rows x 12 columns]\n"
            ],
            "text/html": [
              "<table class='dataframe'>\n",
              "<thead>\n",
              "<tr><th style=\"text-align: right;\">  fixed acidity</th><th style=\"text-align: right;\">  volatile acidity</th><th style=\"text-align: right;\">  citric acid</th><th style=\"text-align: right;\">  residual sugar</th><th style=\"text-align: right;\">  chlorides</th><th style=\"text-align: right;\">  free sulfur dioxide</th><th style=\"text-align: right;\">  total sulfur dioxide</th><th style=\"text-align: right;\">  density</th><th style=\"text-align: right;\">  pH</th><th style=\"text-align: right;\">  sulphates</th><th style=\"text-align: right;\">  alcohol</th><th style=\"text-align: right;\">  quality</th></tr>\n",
              "</thead>\n",
              "<tbody>\n",
              "<tr><td style=\"text-align: right;\">            7.4</td><td style=\"text-align: right;\">              0.7 </td><td style=\"text-align: right;\">         0   </td><td style=\"text-align: right;\">             1.9</td><td style=\"text-align: right;\">      0.076</td><td style=\"text-align: right;\">                   11</td><td style=\"text-align: right;\">                    34</td><td style=\"text-align: right;\">   0.9978</td><td style=\"text-align: right;\">3.51</td><td style=\"text-align: right;\">       0.56</td><td style=\"text-align: right;\">      9.4</td><td style=\"text-align: right;\">        5</td></tr>\n",
              "<tr><td style=\"text-align: right;\">            7.8</td><td style=\"text-align: right;\">              0.88</td><td style=\"text-align: right;\">         0   </td><td style=\"text-align: right;\">             2.6</td><td style=\"text-align: right;\">      0.098</td><td style=\"text-align: right;\">                   25</td><td style=\"text-align: right;\">                    67</td><td style=\"text-align: right;\">   0.9968</td><td style=\"text-align: right;\">3.2 </td><td style=\"text-align: right;\">       0.68</td><td style=\"text-align: right;\">      9.8</td><td style=\"text-align: right;\">        5</td></tr>\n",
              "<tr><td style=\"text-align: right;\">            7.8</td><td style=\"text-align: right;\">              0.76</td><td style=\"text-align: right;\">         0.04</td><td style=\"text-align: right;\">             2.3</td><td style=\"text-align: right;\">      0.092</td><td style=\"text-align: right;\">                   15</td><td style=\"text-align: right;\">                    54</td><td style=\"text-align: right;\">   0.997 </td><td style=\"text-align: right;\">3.26</td><td style=\"text-align: right;\">       0.65</td><td style=\"text-align: right;\">      9.8</td><td style=\"text-align: right;\">        5</td></tr>\n",
              "<tr><td style=\"text-align: right;\">           11.2</td><td style=\"text-align: right;\">              0.28</td><td style=\"text-align: right;\">         0.56</td><td style=\"text-align: right;\">             1.9</td><td style=\"text-align: right;\">      0.075</td><td style=\"text-align: right;\">                   17</td><td style=\"text-align: right;\">                    60</td><td style=\"text-align: right;\">   0.998 </td><td style=\"text-align: right;\">3.16</td><td style=\"text-align: right;\">       0.58</td><td style=\"text-align: right;\">      9.8</td><td style=\"text-align: right;\">        6</td></tr>\n",
              "<tr><td style=\"text-align: right;\">            7.4</td><td style=\"text-align: right;\">              0.7 </td><td style=\"text-align: right;\">         0   </td><td style=\"text-align: right;\">             1.9</td><td style=\"text-align: right;\">      0.076</td><td style=\"text-align: right;\">                   11</td><td style=\"text-align: right;\">                    34</td><td style=\"text-align: right;\">   0.9978</td><td style=\"text-align: right;\">3.51</td><td style=\"text-align: right;\">       0.56</td><td style=\"text-align: right;\">      9.4</td><td style=\"text-align: right;\">        5</td></tr>\n",
              "<tr><td style=\"text-align: right;\">            7.4</td><td style=\"text-align: right;\">              0.66</td><td style=\"text-align: right;\">         0   </td><td style=\"text-align: right;\">             1.8</td><td style=\"text-align: right;\">      0.075</td><td style=\"text-align: right;\">                   13</td><td style=\"text-align: right;\">                    40</td><td style=\"text-align: right;\">   0.9978</td><td style=\"text-align: right;\">3.51</td><td style=\"text-align: right;\">       0.56</td><td style=\"text-align: right;\">      9.4</td><td style=\"text-align: right;\">        5</td></tr>\n",
              "<tr><td style=\"text-align: right;\">            7.9</td><td style=\"text-align: right;\">              0.6 </td><td style=\"text-align: right;\">         0.06</td><td style=\"text-align: right;\">             1.6</td><td style=\"text-align: right;\">      0.069</td><td style=\"text-align: right;\">                   15</td><td style=\"text-align: right;\">                    59</td><td style=\"text-align: right;\">   0.9964</td><td style=\"text-align: right;\">3.3 </td><td style=\"text-align: right;\">       0.46</td><td style=\"text-align: right;\">      9.4</td><td style=\"text-align: right;\">        5</td></tr>\n",
              "<tr><td style=\"text-align: right;\">            7.3</td><td style=\"text-align: right;\">              0.65</td><td style=\"text-align: right;\">         0   </td><td style=\"text-align: right;\">             1.2</td><td style=\"text-align: right;\">      0.065</td><td style=\"text-align: right;\">                   15</td><td style=\"text-align: right;\">                    21</td><td style=\"text-align: right;\">   0.9946</td><td style=\"text-align: right;\">3.39</td><td style=\"text-align: right;\">       0.47</td><td style=\"text-align: right;\">     10  </td><td style=\"text-align: right;\">        7</td></tr>\n",
              "<tr><td style=\"text-align: right;\">            7.8</td><td style=\"text-align: right;\">              0.58</td><td style=\"text-align: right;\">         0.02</td><td style=\"text-align: right;\">             2  </td><td style=\"text-align: right;\">      0.073</td><td style=\"text-align: right;\">                    9</td><td style=\"text-align: right;\">                    18</td><td style=\"text-align: right;\">   0.9968</td><td style=\"text-align: right;\">3.36</td><td style=\"text-align: right;\">       0.57</td><td style=\"text-align: right;\">      9.5</td><td style=\"text-align: right;\">        7</td></tr>\n",
              "<tr><td style=\"text-align: right;\">            7.5</td><td style=\"text-align: right;\">              0.5 </td><td style=\"text-align: right;\">         0.36</td><td style=\"text-align: right;\">             6.1</td><td style=\"text-align: right;\">      0.071</td><td style=\"text-align: right;\">                   17</td><td style=\"text-align: right;\">                   102</td><td style=\"text-align: right;\">   0.9978</td><td style=\"text-align: right;\">3.35</td><td style=\"text-align: right;\">       0.8 </td><td style=\"text-align: right;\">     10.5</td><td style=\"text-align: right;\">        5</td></tr>\n",
              "</tbody>\n",
              "</table><pre style='font-size: smaller; margin-bottom: 1em;'>[10 rows x 12 columns]</pre>"
            ]
          },
          "metadata": {},
          "execution_count": 10
        }
      ]
    },
    {
      "cell_type": "code",
      "source": [
        "train, test = data.split_frame(seed = 1234, destination_frames = [\"train.hex\", \"test.hex\"])\n"
      ],
      "metadata": {
        "id": "zuwiHEaCAtyM"
      },
      "execution_count": 33,
      "outputs": []
    },
    {
      "cell_type": "code",
      "source": [
        "# assign target and inputs for logistic regression\n",
        "y = 'quality'\n",
        "X = [name for name in train.columns if name != y]\n",
        "print(y)\n",
        "print(X)"
      ],
      "metadata": {
        "colab": {
          "base_uri": "https://localhost:8080/"
        },
        "id": "4HgtOBUuqriv",
        "outputId": "2bfec874-fe78-432e-a12e-314ffeb058e4"
      },
      "execution_count": 34,
      "outputs": [
        {
          "output_type": "stream",
          "name": "stdout",
          "text": [
            "quality\n",
            "['fixed acidity', 'volatile acidity', 'citric acid', 'residual sugar', 'chlorides', 'free sulfur dioxide', 'total sulfur dioxide', 'density', 'pH', 'sulphates', 'alcohol']\n"
          ]
        }
      ]
    },
    {
      "cell_type": "markdown",
      "source": [
        "###Regression"
      ],
      "metadata": {
        "id": "vhabEQFQtZ40"
      }
    },
    {
      "cell_type": "code",
      "source": [
        "aml = H2OAutoML(max_runtime_secs=run_time,exclude_algos = ['DeepLearning'])"
      ],
      "metadata": {
        "id": "ZwgNS0fnth12"
      },
      "execution_count": 65,
      "outputs": []
    },
    {
      "cell_type": "code",
      "source": [
        "model_start_time = time.time()\n",
        "  \n",
        "try:\n",
        "  aml.train(x=X,y=y,training_frame=train)  # Change training_frame=train\n",
        "except Exception as e:\n",
        "  logging.critical('aml.train') \n",
        "  h2o.download_all_logs(dirname=logs_path, filename=logfile)      \n",
        "  h2o.cluster().shutdown()   \n",
        "  sys.exit(4)"
      ],
      "metadata": {
        "colab": {
          "base_uri": "https://localhost:8080/"
        },
        "id": "kW-ddK9iuvTY",
        "outputId": "49eedbcd-cbbb-433a-c9e3-a3944d4797a2"
      },
      "execution_count": 66,
      "outputs": [
        {
          "output_type": "stream",
          "name": "stdout",
          "text": [
            "AutoML progress: |███████████████████████████████████████████████████████████████| (done) 100%\n"
          ]
        }
      ]
    },
    {
      "cell_type": "code",
      "source": [
        "aml2 = H2OAutoML(max_runtime_secs = 60, seed = 1, project_name = \"powerplant_full_data\")\n",
        "aml2.train(y = y, training_frame = data)"
      ],
      "metadata": {
        "id": "n6niOpIKRHxZ"
      },
      "execution_count": null,
      "outputs": []
    },
    {
      "cell_type": "code",
      "source": [
        "print(aml.leaderboard)"
      ],
      "metadata": {
        "colab": {
          "base_uri": "https://localhost:8080/"
        },
        "id": "wGR8RfMDw9as",
        "outputId": "d176a115-7982-4cb4-98d3-9649d6399dac"
      },
      "execution_count": 37,
      "outputs": [
        {
          "output_type": "stream",
          "name": "stdout",
          "text": [
            "model_id                                                    rmse       mse       mae      rmsle    mean_residual_deviance\n",
            "StackedEnsemble_BestOfFamily_6_AutoML_2_20221025_24144  0.568018  0.322644  0.399842  0.087965                   0.322644\n",
            "StackedEnsemble_BestOfFamily_4_AutoML_2_20221025_24144  0.571002  0.326044  0.394998  0.0882565                  0.326044\n",
            "StackedEnsemble_AllModels_5_AutoML_2_20221025_24144     0.573293  0.328665  0.402066  0.0888504                  0.328665\n",
            "StackedEnsemble_Best1000_1_AutoML_2_20221025_24144      0.573384  0.32877   0.41379   0.0888294                  0.32877\n",
            "StackedEnsemble_AllModels_3_AutoML_2_20221025_24144     0.573986  0.32946   0.414235  0.088857                   0.32946\n",
            "XGBoost_grid_1_AutoML_2_20221025_24144_model_6          0.580969  0.337525  0.393998  0.0896447                  0.337525\n",
            "StackedEnsemble_BestOfFamily_3_AutoML_2_20221025_24144  0.58443   0.341559  0.414256  0.0907342                  0.341559\n",
            "StackedEnsemble_AllModels_2_AutoML_2_20221025_24144     0.584803  0.341995  0.413649  0.0908009                  0.341995\n",
            "StackedEnsemble_AllModels_1_AutoML_2_20221025_24144     0.585181  0.342436  0.417746  0.0909113                  0.342436\n",
            "StackedEnsemble_BestOfFamily_5_AutoML_2_20221025_24144  0.585318  0.342597  0.39952   0.0909215                  0.342597\n",
            "[155 rows x 6 columns]\n",
            "\n"
          ]
        }
      ]
    },
    {
      "cell_type": "code",
      "source": [
        "print(aml2.leaderboard)"
      ],
      "metadata": {
        "id": "vPohJmPPRf3-"
      },
      "execution_count": null,
      "outputs": []
    },
    {
      "cell_type": "markdown",
      "source": [
        "###Answer Questions using Leading Model\n",
        " 1. Is the relationship significant?\n",
        " "
      ],
      "metadata": {
        "id": "-m4pNOU9xWnY"
      }
    },
    {
      "cell_type": "code",
      "source": [
        "best_model = h2o.get_model(aml.leaderboard[0,'model_id'])\n",
        "best_model.algo"
      ],
      "metadata": {
        "colab": {
          "base_uri": "https://localhost:8080/",
          "height": 36
        },
        "id": "MbhqaV-GxWKV",
        "outputId": "e8901850-5b90-4bf2-b552-107586cbe013"
      },
      "execution_count": 50,
      "outputs": [
        {
          "output_type": "execute_result",
          "data": {
            "text/plain": [
              "'stackedensemble'"
            ],
            "application/vnd.google.colaboratory.intrinsic+json": {
              "type": "string"
            }
          },
          "metadata": {},
          "execution_count": 50
        }
      ]
    },
    {
      "cell_type": "code",
      "source": [
        "best_model.r2(train=True)"
      ],
      "metadata": {
        "id": "ixwIcs4rylh7",
        "outputId": "cb4d632d-fc06-41c8-9942-94dc7ff63d2d",
        "colab": {
          "base_uri": "https://localhost:8080/"
        }
      },
      "execution_count": 39,
      "outputs": [
        {
          "output_type": "execute_result",
          "data": {
            "text/plain": [
              "0.9657638368026942"
            ]
          },
          "metadata": {},
          "execution_count": 39
        }
      ]
    },
    {
      "cell_type": "code",
      "source": [
        "print(best_model.r2(valid=True))"
      ],
      "metadata": {
        "id": "-Jz5U6HnCGzq",
        "outputId": "30ee8a4b-2ba8-425a-b13e-54806a2f5ff4",
        "colab": {
          "base_uri": "https://localhost:8080/"
        }
      },
      "execution_count": 42,
      "outputs": [
        {
          "output_type": "stream",
          "name": "stdout",
          "text": [
            "None\n"
          ]
        }
      ]
    },
    {
      "cell_type": "code",
      "source": [
        "print(best_model.r2(xval = True))"
      ],
      "metadata": {
        "id": "UODiwILHzPO5",
        "outputId": "85db44a9-8a07-48e0-f718-3d78f717a290",
        "colab": {
          "base_uri": "https://localhost:8080/"
        }
      },
      "execution_count": 40,
      "outputs": [
        {
          "output_type": "stream",
          "name": "stdout",
          "text": [
            "0.483772113987574\n"
          ]
        }
      ]
    },
    {
      "cell_type": "code",
      "source": [
        "perf = aml.leader.model_performance(test)\n",
        "perf"
      ],
      "metadata": {
        "id": "duKopcW5pAyM",
        "outputId": "e6177149-6003-404d-e28f-d92bc950bedf",
        "colab": {
          "base_uri": "https://localhost:8080/",
          "height": 288
        }
      },
      "execution_count": 61,
      "outputs": [
        {
          "output_type": "execute_result",
          "data": {
            "text/plain": [
              "ModelMetricsRegressionGLM: stackedensemble\n",
              "** Reported on test data. **\n",
              "\n",
              "MSE: 0.3577142657296839\n",
              "RMSE: 0.598092188320232\n",
              "MAE: 0.42493077173740496\n",
              "RMSLE: 0.09336635200001922\n",
              "Mean Residual Deviance: 0.3577142657296839\n",
              "R^2: 0.4870148291918305\n",
              "Null degrees of freedom: 393\n",
              "Residual degrees of freedom: 388\n",
              "Null deviance: 275.0595347876241\n",
              "Residual deviance: 140.93942069749545\n",
              "AIC: 727.0833880014079"
            ],
            "text/html": [
              "<pre style='margin: 1em 0 1em 0;'>ModelMetricsRegressionGLM: stackedensemble\n",
              "** Reported on test data. **\n",
              "\n",
              "MSE: 0.3577142657296839\n",
              "RMSE: 0.598092188320232\n",
              "MAE: 0.42493077173740496\n",
              "RMSLE: 0.09336635200001922\n",
              "Mean Residual Deviance: 0.3577142657296839\n",
              "R^2: 0.4870148291918305\n",
              "Null degrees of freedom: 393\n",
              "Residual degrees of freedom: 388\n",
              "Null deviance: 275.0595347876241\n",
              "Residual deviance: 140.93942069749545\n",
              "AIC: 727.0833880014079</pre>"
            ]
          },
          "metadata": {},
          "execution_count": 61
        }
      ]
    },
    {
      "cell_type": "code",
      "source": [
        "import matplotlib.pyplot as plt\n",
        "%matplotlib inline\n",
        "\n",
        "import warnings\n",
        "import matplotlib.cbook\n",
        "warnings.filterwarnings(\"ignore\", category = matplotlib.cbook.mplDeprecation)"
      ],
      "metadata": {
        "id": "XIi0SH_sxvjI"
      },
      "execution_count": 45,
      "outputs": []
    },
    {
      "cell_type": "code",
      "source": [
        "# Get model ids for all models in the AutoML Leaderboard\n",
        "model_ids = list(aml.leaderboard['model_id'].as_data_frame().iloc[:,0])\n",
        "# Get the \"All Models\" Stacked Ensemble model\n",
        "se = h2o.get_model([mid for mid in model_ids if \"StackedEnsemble_AllModels\" in mid][0])\n",
        "# Get the Stacked Ensemble metalearner model\n",
        "metalearner = se.metalearner()"
      ],
      "metadata": {
        "id": "9Cx3dXbxxza2"
      },
      "execution_count": 68,
      "outputs": []
    },
    {
      "cell_type": "code",
      "source": [
        "metalearner.coef_norm()"
      ],
      "metadata": {
        "id": "G538AtxkXIHx",
        "outputId": "a3e2a5ab-ee33-4fbc-855c-716b12754b34",
        "colab": {
          "base_uri": "https://localhost:8080/"
        }
      },
      "execution_count": 69,
      "outputs": [
        {
          "output_type": "execute_result",
          "data": {
            "text/plain": [
              "{'Intercept': 5.629045643153521,\n",
              " 'DRF_1_AutoML_5_20221025_35349': 0.39744796323621095,\n",
              " 'XRT_1_AutoML_5_20221025_35349': 0.0,\n",
              " 'GBM_5_AutoML_5_20221025_35349': 0.039939529355103046,\n",
              " 'GBM_grid_1_AutoML_5_20221025_35349_model_7': 0.0,\n",
              " 'GBM_grid_1_AutoML_5_20221025_35349_model_11': 0.0,\n",
              " 'GBM_4_AutoML_5_20221025_35349': 0.0,\n",
              " 'GBM_grid_1_AutoML_5_20221025_35349_model_18': 0.0,\n",
              " 'GBM_grid_1_AutoML_5_20221025_35349_model_15': 0.0,\n",
              " 'GBM_2_AutoML_5_20221025_35349': 0.0,\n",
              " 'GBM_grid_1_AutoML_5_20221025_35349_model_19': 0.0012422200374260766,\n",
              " 'GBM_3_AutoML_5_20221025_35349': 0.0,\n",
              " 'GBM_grid_1_AutoML_5_20221025_35349_model_32': 0.0,\n",
              " 'GBM_grid_1_AutoML_5_20221025_35349_model_33': 0.0,\n",
              " 'GBM_grid_1_AutoML_5_20221025_35349_model_21': 0.0,\n",
              " 'XGBoost_grid_1_AutoML_5_20221025_35349_model_13': 0.0,\n",
              " 'GBM_grid_1_AutoML_5_20221025_35349_model_10': 0.0,\n",
              " 'GBM_grid_1_AutoML_5_20221025_35349_model_3': 0.0,\n",
              " 'GBM_grid_1_AutoML_5_20221025_35349_model_1': 0.0,\n",
              " 'GBM_grid_1_AutoML_5_20221025_35349_model_4': 0.0,\n",
              " 'GBM_grid_1_AutoML_5_20221025_35349_model_6': 0.0,\n",
              " 'XGBoost_grid_1_AutoML_5_20221025_35349_model_2': 0.034502639765785874,\n",
              " 'XGBoost_grid_1_AutoML_5_20221025_35349_model_20': 0.05145769871140637,\n",
              " 'XGBoost_grid_1_AutoML_5_20221025_35349_model_25': 0.02052698306783458,\n",
              " 'GBM_grid_1_AutoML_5_20221025_35349_model_14': 0.0,\n",
              " 'GBM_grid_1_AutoML_5_20221025_35349_model_23': 0.0,\n",
              " 'XGBoost_grid_1_AutoML_5_20221025_35349_model_21': 0.0,\n",
              " 'XGBoost_grid_1_AutoML_5_20221025_35349_model_24': 0.0,\n",
              " 'XGBoost_grid_1_AutoML_5_20221025_35349_model_11': 0.0,\n",
              " 'GBM_grid_1_AutoML_5_20221025_35349_model_24': 0.0,\n",
              " 'GBM_grid_1_AutoML_5_20221025_35349_model_31': 0.0,\n",
              " 'GBM_grid_1_AutoML_5_20221025_35349_model_13': 0.0,\n",
              " 'XGBoost_grid_1_AutoML_5_20221025_35349_model_23': 0.0,\n",
              " 'GBM_grid_1_AutoML_5_20221025_35349_model_9': 0.0,\n",
              " 'GBM_grid_1_AutoML_5_20221025_35349_model_12': 0.0,\n",
              " 'XGBoost_grid_1_AutoML_5_20221025_35349_model_19': 0.0,\n",
              " 'GBM_grid_1_AutoML_5_20221025_35349_model_29': 0.0,\n",
              " 'XGBoost_grid_1_AutoML_5_20221025_35349_model_17': 0.0,\n",
              " 'GBM_grid_1_AutoML_5_20221025_35349_model_28': 0.0,\n",
              " 'GBM_grid_1_AutoML_5_20221025_35349_model_25': 0.0,\n",
              " 'GBM_1_AutoML_5_20221025_35349': 0.0,\n",
              " 'GBM_grid_1_AutoML_5_20221025_35349_model_27': 0.0,\n",
              " 'XGBoost_grid_1_AutoML_5_20221025_35349_model_8': 0.032864630321132696,\n",
              " 'XGBoost_grid_1_AutoML_5_20221025_35349_model_14': 0.0,\n",
              " 'GBM_grid_1_AutoML_5_20221025_35349_model_16': 0.0,\n",
              " 'GBM_grid_1_AutoML_5_20221025_35349_model_5': 0.0,\n",
              " 'XGBoost_grid_1_AutoML_5_20221025_35349_model_3': 0.0,\n",
              " 'GBM_grid_1_AutoML_5_20221025_35349_model_22': 0.0,\n",
              " 'XGBoost_grid_1_AutoML_5_20221025_35349_model_16': 0.0,\n",
              " 'GBM_grid_1_AutoML_5_20221025_35349_model_17': 0.0,\n",
              " 'GBM_grid_1_AutoML_5_20221025_35349_model_30': 0.0,\n",
              " 'GBM_grid_1_AutoML_5_20221025_35349_model_2': 0.0,\n",
              " 'XGBoost_grid_1_AutoML_5_20221025_35349_model_9': 0.0,\n",
              " 'GBM_grid_1_AutoML_5_20221025_35349_model_26': 0.0,\n",
              " 'XGBoost_grid_1_AutoML_5_20221025_35349_model_4': 0.0,\n",
              " 'GBM_grid_1_AutoML_5_20221025_35349_model_20': 0.0,\n",
              " 'XGBoost_grid_1_AutoML_5_20221025_35349_model_10': 0.0,\n",
              " 'XGBoost_grid_1_AutoML_5_20221025_35349_model_22': 0.0,\n",
              " 'XGBoost_grid_1_AutoML_5_20221025_35349_model_1': 0.0,\n",
              " 'XGBoost_1_AutoML_5_20221025_35349': 0.0,\n",
              " 'XGBoost_grid_1_AutoML_5_20221025_35349_model_18': 0.0,\n",
              " 'XGBoost_3_AutoML_5_20221025_35349': 0.0,\n",
              " 'XGBoost_grid_1_AutoML_5_20221025_35349_model_15': 0.0,\n",
              " 'XGBoost_grid_1_AutoML_5_20221025_35349_model_12': 0.0,\n",
              " 'GBM_grid_1_AutoML_5_20221025_35349_model_8': 0.0,\n",
              " 'GLM_1_AutoML_5_20221025_35349': 0.0,\n",
              " 'XGBoost_grid_1_AutoML_5_20221025_35349_model_5': 0.0,\n",
              " 'XGBoost_2_AutoML_5_20221025_35349': 0.0,\n",
              " 'XGBoost_grid_1_AutoML_5_20221025_35349_model_6': 0.0,\n",
              " 'XGBoost_grid_1_AutoML_5_20221025_35349_model_7': 0.0}"
            ]
          },
          "metadata": {},
          "execution_count": 69
        }
      ]
    },
    {
      "cell_type": "code",
      "source": [
        "%matplotlib inline\n",
        "metalearner.std_coef_plot()"
      ],
      "metadata": {
        "id": "IFfrZF4sXOWd",
        "outputId": "ead1433f-564b-4cdf-c5e9-ccb3bc91950e",
        "colab": {
          "base_uri": "https://localhost:8080/",
          "height": 629
        }
      },
      "execution_count": 70,
      "outputs": [
        {
          "output_type": "execute_result",
          "data": {
            "text/plain": [
              "<h2o.plot._plot_result._MObject at 0x7f0ce90d57d0>"
            ]
          },
          "metadata": {},
          "execution_count": 70
        },
        {
          "output_type": "display_data",
          "data": {
            "text/plain": [
              "<Figure size 1008x720 with 1 Axes>"
            ],
            "image/png": "[encoded data removed]"
          },
          "metadata": {
            "needs_background": "light"
          }
        }
      ]
    }
  ]
}
