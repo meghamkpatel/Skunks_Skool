{
  "nbformat": 4,
  "nbformat_minor": 0,
  "metadata": {
    "colab": {
      "provenance": [],
      "collapsed_sections": [],
      "authorship_tag": "ABX9TyM81laryXnaWCj8hs1cqUeI",
      "include_colab_link": true
    },
    "kernelspec": {
      "name": "python3",
      "display_name": "Python 3"
    },
    "language_info": {
      "name": "python"
    }
  },
  "cells": [
    {
      "cell_type": "markdown",
      "metadata": {
        "id": "view-in-github",
        "colab_type": "text"
      },
      "source": [
        "<a href=\"https://colab.research.google.com/github/meghamkpatel/Skunks_Skool/blob/main/INFO_6105/AutoML/Red_Wine_Quality.ipynb\" target=\"_parent\"><img src=\"https://colab.research.google.com/assets/colab-badge.svg\" alt=\"Open In Colab\"/></a>"
      ]
    },
    {
      "cell_type": "markdown",
      "source": [
        "#Data Science Engineering\n",
        "##Assignment 2 - 80 Cereals\n",
        "*AutoML*\n",
        "_______________________________________\n"
      ],
      "metadata": {
        "id": "TQiGJXnYhgHB"
      }
    },
    {
      "cell_type": "markdown",
      "source": [
        "##Abstract\n",
        "Breakfast is the most important meal of the day! Cereals combined with milk are traditionally eaten food to kick start a healthy day. But how healthy is your cereal?  \n",
        "\n",
        "Some companies promote their products for the health benefits that come from eating oat-based and high-fiber cereals. In the United States, cereals are often fortified with vitamins but can still lack many of the vitamins needed for a healthy breakfast. A significant proportion of cereals have a high sugar content (\"sugar cereals\" or \"sugary cereals\" in common parlance).\n",
        "\n",
        "###Goal\n",
        "In this notebook, we examine popular cereal brands and their nutritional facts including, calories, protein, fat, sodium, fiber, carbohydrates, sugars, potassium, and vitamins as well as external characteristics such as manufacturer, type, shelf level, weight, and number of cups per serving to predict ratings.\n",
        "\n",
        "###Attributes\n",
        "* name: Name of cereal\n",
        "* mfr: Manufacturer of cereal\n",
        "  * A = American Home Food Products;\n",
        "  * G = General Mills\n",
        "  * K = Kelloggs\n",
        "  * N = Nabisco\n",
        "  * P = Post\n",
        "  * Q = Quaker Oats\n",
        "  * R = Ralston Purina\n",
        "* type:\n",
        "  * cold\n",
        "  * hot\n",
        "* calories: calories per serving\n",
        "* protein: grams of protein\n",
        "* fat: grams of fat\n",
        "* sodium: milligrams of sodium\n",
        "* fiber: grams of dietary fiber\n",
        "* carbo: grams of complex carbohydrates\n",
        "* sugars: grams of sugars\n",
        "* potass: milligrams of potassium\n",
        "* vitamins: vitamins and minerals - 0, 25, or 100, indicating the typical percentage of FDA recommended\n",
        "* shelf: display shelf (1, 2, or 3, counting from the floor)\n",
        "* weight: weight in ounces of one serving\n",
        "* cups: number of cups in one serving\n",
        "* rating: a rating of the cereals (Possibly from Consumer Reports?)\n",
        "\n",
        "\n"
      ],
      "metadata": {
        "id": "98f5y5flqAns"
      }
    },
    {
      "cell_type": "markdown",
      "source": [
        "###Initializing H2O..."
      ],
      "metadata": {
        "id": "mOKqUODfiIkH"
      }
    },
    {
      "cell_type": "code",
      "source": [
        "#installing h2o\n",
        "!pip install -f http://h2o-release.s3.amazonaws.com/h2o/latest_stable_Py.html h2o "
      ],
      "metadata": {
        "colab": {
          "base_uri": "https://localhost:8080/"
        },
        "id": "LECbMq24jaUq",
        "outputId": "4387e56f-6c34-4a5e-de1a-cb3028274a6a"
      },
      "execution_count": 47,
      "outputs": [
        {
          "output_type": "stream",
          "name": "stdout",
          "text": [
            "Looking in indexes: https://pypi.org/simple, https://us-python.pkg.dev/colab-wheels/public/simple/\n",
            "Looking in links: http://h2o-release.s3.amazonaws.com/h2o/latest_stable_Py.html\n",
            "Requirement already satisfied: h2o in /usr/local/lib/python3.7/dist-packages (3.38.0.1)\n",
            "Requirement already satisfied: future in /usr/local/lib/python3.7/dist-packages (from h2o) (0.16.0)\n",
            "Requirement already satisfied: requests in /usr/local/lib/python3.7/dist-packages (from h2o) (2.23.0)\n",
            "Requirement already satisfied: tabulate in /usr/local/lib/python3.7/dist-packages (from h2o) (0.8.10)\n",
            "Requirement already satisfied: certifi>=2017.4.17 in /usr/local/lib/python3.7/dist-packages (from requests->h2o) (2022.9.24)\n",
            "Requirement already satisfied: urllib3!=1.25.0,!=1.25.1,<1.26,>=1.21.1 in /usr/local/lib/python3.7/dist-packages (from requests->h2o) (1.24.3)\n",
            "Requirement already satisfied: idna<3,>=2.5 in /usr/local/lib/python3.7/dist-packages (from requests->h2o) (2.10)\n",
            "Requirement already satisfied: chardet<4,>=3.0.2 in /usr/local/lib/python3.7/dist-packages (from requests->h2o) (3.0.4)\n"
          ]
        }
      ]
    },
    {
      "cell_type": "code",
      "execution_count": 49,
      "metadata": {
        "id": "F9X7-MLqgw_8"
      },
      "outputs": [],
      "source": [
        "#importing all necessary libraries\n",
        "%matplotlib inline  \n",
        "import random, os, sys\n",
        "import h2o\n",
        "import pandas\n",
        "import pprint\n",
        "import operator\n",
        "import matplotlib\n",
        "from h2o.estimators.glm import H2OGeneralizedLinearEstimator\n",
        "from h2o.estimators.gbm import H2OGradientBoostingEstimator\n",
        "from h2o.estimators.random_forest import H2ORandomForestEstimator\n",
        "from h2o.estimators.deeplearning import H2ODeepLearningEstimator\n",
        "from tabulate import tabulate\n",
        "from h2o.automl import H2OAutoML\n",
        "from datetime import datetime\n",
        "import pandas as pd\n",
        "import logging\n",
        "import csv\n",
        "import optparse\n",
        "import time\n",
        "import json\n",
        "from distutils.util import strtobool\n",
        "import psutil\n",
        "import numpy as np"
      ]
    },
    {
      "cell_type": "code",
      "source": [
        "min_mem_size=6 \n",
        "run_time=333"
      ],
      "metadata": {
        "id": "OoLkykO2tu-S"
      },
      "execution_count": 50,
      "outputs": []
    },
    {
      "cell_type": "code",
      "source": [
        "pct_memory=0.5\n",
        "virtual_memory=psutil.virtual_memory()\n",
        "min_mem_size=int(round(int(pct_memory*virtual_memory.available)/1073741824,0))\n",
        "print(min_mem_size)"
      ],
      "metadata": {
        "colab": {
          "base_uri": "https://localhost:8080/"
        },
        "id": "5FcU8dnauM_J",
        "outputId": "b87bb8f9-3928-447a-b201-e0c097764b0e"
      },
      "execution_count": 51,
      "outputs": [
        {
          "output_type": "stream",
          "name": "stdout",
          "text": [
            "5\n"
          ]
        }
      ]
    },
    {
      "cell_type": "code",
      "source": [
        "#installing dependencies\n",
        "!pip install eli5\n",
        "!pip install -q kaggle"
      ],
      "metadata": {
        "colab": {
          "base_uri": "https://localhost:8080/"
        },
        "id": "JsqNWl19i7W5",
        "outputId": "eda723e6-28e1-4236-bb40-6abd6cdfeca8"
      },
      "execution_count": 52,
      "outputs": [
        {
          "output_type": "stream",
          "name": "stdout",
          "text": [
            "Looking in indexes: https://pypi.org/simple, https://us-python.pkg.dev/colab-wheels/public/simple/\n",
            "Requirement already satisfied: eli5 in /usr/local/lib/python3.7/dist-packages (0.13.0)\n",
            "Requirement already satisfied: graphviz in /usr/local/lib/python3.7/dist-packages (from eli5) (0.10.1)\n",
            "Requirement already satisfied: numpy>=1.9.0 in /usr/local/lib/python3.7/dist-packages (from eli5) (1.21.6)\n",
            "Requirement already satisfied: jinja2>=3.0.0 in /usr/local/lib/python3.7/dist-packages (from eli5) (3.1.2)\n",
            "Requirement already satisfied: scipy in /usr/local/lib/python3.7/dist-packages (from eli5) (1.7.3)\n",
            "Requirement already satisfied: six in /usr/local/lib/python3.7/dist-packages (from eli5) (1.15.0)\n",
            "Requirement already satisfied: tabulate>=0.7.7 in /usr/local/lib/python3.7/dist-packages (from eli5) (0.8.10)\n",
            "Requirement already satisfied: scikit-learn>=0.20 in /usr/local/lib/python3.7/dist-packages (from eli5) (1.0.2)\n",
            "Requirement already satisfied: attrs>17.1.0 in /usr/local/lib/python3.7/dist-packages (from eli5) (22.1.0)\n",
            "Requirement already satisfied: MarkupSafe>=2.0 in /usr/local/lib/python3.7/dist-packages (from jinja2>=3.0.0->eli5) (2.0.1)\n",
            "Requirement already satisfied: joblib>=0.11 in /usr/local/lib/python3.7/dist-packages (from scikit-learn>=0.20->eli5) (1.2.0)\n",
            "Requirement already satisfied: threadpoolctl>=2.0.0 in /usr/local/lib/python3.7/dist-packages (from scikit-learn>=0.20->eli5) (3.1.0)\n"
          ]
        }
      ]
    },
    {
      "cell_type": "code",
      "source": [
        "#making a directory for kaggle api\n",
        "from google.colab import files\n",
        "files.upload()\n",
        "! mkdir ~/.kaggle\n",
        "! cp kaggle.json ~/.kaggle/\n",
        "! chmod 600 ~/.kaggle/kaggle.json"
      ],
      "metadata": {
        "colab": {
          "base_uri": "https://localhost:8080/",
          "height": 91
        },
        "id": "BZQ9vE8li9Q5",
        "outputId": "70617858-e6a8-40c7-ad1f-03011c4119b9"
      },
      "execution_count": 53,
      "outputs": [
        {
          "output_type": "display_data",
          "data": {
            "text/plain": [
              "<IPython.core.display.HTML object>"
            ],
            "text/html": [
              "\n",
              "     <input type=\"file\" id=\"files-63de7dc8-13f6-4175-8a22-bb0e5290636f\" name=\"files[]\" multiple disabled\n",
              "        style=\"border:none\" />\n",
              "     <output id=\"result-63de7dc8-13f6-4175-8a22-bb0e5290636f\">\n",
              "      Upload widget is only available when the cell has been executed in the\n",
              "      current browser session. Please rerun this cell to enable.\n",
              "      </output>\n",
              "      <script>// Copyright 2017 Google LLC\n",
              "//\n",
              "// Licensed under the Apache License, Version 2.0 (the \"License\");\n",
              "// you may not use this file except in compliance with the License.\n",
              "// You may obtain a copy of the License at\n",
              "//\n",
              "//      http://www.apache.org/licenses/LICENSE-2.0\n",
              "//\n",
              "// Unless required by applicable law or agreed to in writing, software\n",
              "// distributed under the License is distributed on an \"AS IS\" BASIS,\n",
              "// WITHOUT WARRANTIES OR CONDITIONS OF ANY KIND, either express or implied.\n",
              "// See the License for the specific language governing permissions and\n",
              "// limitations under the License.\n",
              "\n",
              "/**\n",
              " * @fileoverview Helpers for google.colab Python module.\n",
              " */\n",
              "(function(scope) {\n",
              "function span(text, styleAttributes = {}) {\n",
              "  const element = document.createElement('span');\n",
              "  element.textContent = text;\n",
              "  for (const key of Object.keys(styleAttributes)) {\n",
              "    element.style[key] = styleAttributes[key];\n",
              "  }\n",
              "  return element;\n",
              "}\n",
              "\n",
              "// Max number of bytes which will be uploaded at a time.\n",
              "const MAX_PAYLOAD_SIZE = 100 * 1024;\n",
              "\n",
              "function _uploadFiles(inputId, outputId) {\n",
              "  const steps = uploadFilesStep(inputId, outputId);\n",
              "  const outputElement = document.getElementById(outputId);\n",
              "  // Cache steps on the outputElement to make it available for the next call\n",
              "  // to uploadFilesContinue from Python.\n",
              "  outputElement.steps = steps;\n",
              "\n",
              "  return _uploadFilesContinue(outputId);\n",
              "}\n",
              "\n",
              "// This is roughly an async generator (not supported in the browser yet),\n",
              "// where there are multiple asynchronous steps and the Python side is going\n",
              "// to poll for completion of each step.\n",
              "// This uses a Promise to block the python side on completion of each step,\n",
              "// then passes the result of the previous step as the input to the next step.\n",
              "function _uploadFilesContinue(outputId) {\n",
              "  const outputElement = document.getElementById(outputId);\n",
              "  const steps = outputElement.steps;\n",
              "\n",
              "  const next = steps.next(outputElement.lastPromiseValue);\n",
              "  return Promise.resolve(next.value.promise).then((value) => {\n",
              "    // Cache the last promise value to make it available to the next\n",
              "    // step of the generator.\n",
              "    outputElement.lastPromiseValue = value;\n",
              "    return next.value.response;\n",
              "  });\n",
              "}\n",
              "\n",
              "/**\n",
              " * Generator function which is called between each async step of the upload\n",
              " * process.\n",
              " * @param {string} inputId Element ID of the input file picker element.\n",
              " * @param {string} outputId Element ID of the output display.\n",
              " * @return {!Iterable<!Object>} Iterable of next steps.\n",
              " */\n",
              "function* uploadFilesStep(inputId, outputId) {\n",
              "  const inputElement = document.getElementById(inputId);\n",
              "  inputElement.disabled = false;\n",
              "\n",
              "  const outputElement = document.getElementById(outputId);\n",
              "  outputElement.innerHTML = '';\n",
              "\n",
              "  const pickedPromise = new Promise((resolve) => {\n",
              "    inputElement.addEventListener('change', (e) => {\n",
              "      resolve(e.target.files);\n",
              "    });\n",
              "  });\n",
              "\n",
              "  const cancel = document.createElement('button');\n",
              "  inputElement.parentElement.appendChild(cancel);\n",
              "  cancel.textContent = 'Cancel upload';\n",
              "  const cancelPromise = new Promise((resolve) => {\n",
              "    cancel.onclick = () => {\n",
              "      resolve(null);\n",
              "    };\n",
              "  });\n",
              "\n",
              "  // Wait for the user to pick the files.\n",
              "  const files = yield {\n",
              "    promise: Promise.race([pickedPromise, cancelPromise]),\n",
              "    response: {\n",
              "      action: 'starting',\n",
              "    }\n",
              "  };\n",
              "\n",
              "  cancel.remove();\n",
              "\n",
              "  // Disable the input element since further picks are not allowed.\n",
              "  inputElement.disabled = true;\n",
              "\n",
              "  if (!files) {\n",
              "    return {\n",
              "      response: {\n",
              "        action: 'complete',\n",
              "      }\n",
              "    };\n",
              "  }\n",
              "\n",
              "  for (const file of files) {\n",
              "    const li = document.createElement('li');\n",
              "    li.append(span(file.name, {fontWeight: 'bold'}));\n",
              "    li.append(span(\n",
              "        `(${file.type || 'n/a'}) - ${file.size} bytes, ` +\n",
              "        `last modified: ${\n",
              "            file.lastModifiedDate ? file.lastModifiedDate.toLocaleDateString() :\n",
              "                                    'n/a'} - `));\n",
              "    const percent = span('0% done');\n",
              "    li.appendChild(percent);\n",
              "\n",
              "    outputElement.appendChild(li);\n",
              "\n",
              "    const fileDataPromise = new Promise((resolve) => {\n",
              "      const reader = new FileReader();\n",
              "      reader.onload = (e) => {\n",
              "        resolve(e.target.result);\n",
              "      };\n",
              "      reader.readAsArrayBuffer(file);\n",
              "    });\n",
              "    // Wait for the data to be ready.\n",
              "    let fileData = yield {\n",
              "      promise: fileDataPromise,\n",
              "      response: {\n",
              "        action: 'continue',\n",
              "      }\n",
              "    };\n",
              "\n",
              "    // Use a chunked sending to avoid message size limits. See b/62115660.\n",
              "    let position = 0;\n",
              "    do {\n",
              "      const length = Math.min(fileData.byteLength - position, MAX_PAYLOAD_SIZE);\n",
              "      const chunk = new Uint8Array(fileData, position, length);\n",
              "      position += length;\n",
              "\n",
              "      const base64 = btoa(String.fromCharCode.apply(null, chunk));\n",
              "      yield {\n",
              "        response: {\n",
              "          action: 'append',\n",
              "          file: file.name,\n",
              "          data: base64,\n",
              "        },\n",
              "      };\n",
              "\n",
              "      let percentDone = fileData.byteLength === 0 ?\n",
              "          100 :\n",
              "          Math.round((position / fileData.byteLength) * 100);\n",
              "      percent.textContent = `${percentDone}% done`;\n",
              "\n",
              "    } while (position < fileData.byteLength);\n",
              "  }\n",
              "\n",
              "  // All done.\n",
              "  yield {\n",
              "    response: {\n",
              "      action: 'complete',\n",
              "    }\n",
              "  };\n",
              "}\n",
              "\n",
              "scope.google = scope.google || {};\n",
              "scope.google.colab = scope.google.colab || {};\n",
              "scope.google.colab._files = {\n",
              "  _uploadFiles,\n",
              "  _uploadFilesContinue,\n",
              "};\n",
              "})(self);\n",
              "</script> "
            ]
          },
          "metadata": {}
        },
        {
          "output_type": "stream",
          "name": "stdout",
          "text": [
            "Saving kaggle.json to kaggle (1).json\n",
            "mkdir: cannot create directory ‘/root/.kaggle’: File exists\n"
          ]
        }
      ]
    },
    {
      "cell_type": "code",
      "source": [
        "#downloading and reading the 80 cereal dataset\n",
        "! kaggle datasets list -s '80 cereals' # searching through kaggle with keyword '80 cereals'\n",
        "! kaggle datasets download -d crawford/80-cereals \n",
        "!unzip 80-cereals.zip"
      ],
      "metadata": {
        "colab": {
          "base_uri": "https://localhost:8080/"
        },
        "id": "ZXdNthsbjGbC",
        "outputId": "843030a3-8538-47a9-f15c-027d2dcdfa62"
      },
      "execution_count": 56,
      "outputs": [
        {
          "output_type": "stream",
          "name": "stdout",
          "text": [
            "ref                                                            title                                              size  lastUpdated          downloadCount  voteCount  usabilityRating  \n",
            "-------------------------------------------------------------  ------------------------------------------------  -----  -------------------  -------------  ---------  ---------------  \n",
            "crawford/80-cereals                                            80 Cereals                                          2KB  2017-10-24 18:25:20          38896        526  0.85294116       \n",
            "masoodhussain/80-cereals-nutrition-data-on-80-cereal-products  80 Cereals: Nutrition data on 80 cereal products    4KB  2017-11-14 10:09:45            169          3  0.1764706        \n",
            "kagema/80-cereals                                              80 Cereals                                          2KB  2017-10-24 12:21:27             47          0  0.23529412       \n",
            "shubhamsingh2001/crop-yield                                    crop yield                                        558KB  2022-10-25 15:22:38            154          2  0.5882353        \n",
            "nitishvig007/80cerealdataset                                   80CerealDataset                                   311KB  2019-08-19 14:57:13            106          3  0.5294118        \n",
            "80-cereals.zip: Skipping, found more recently modified local copy (use --force to force download)\n",
            "Archive:  80-cereals.zip\n",
            "  inflating: cereal.csv              \n"
          ]
        }
      ]
    },
    {
      "cell_type": "code",
      "source": [
        "h2o.init(strict_version_check=False) # start h2o"
      ],
      "metadata": {
        "id": "dVu_k-SFk9B-",
        "outputId": "cb6b4e42-7884-46b1-c891-81a94719324f",
        "colab": {
          "base_uri": "https://localhost:8080/",
          "height": 398
        }
      },
      "execution_count": 57,
      "outputs": [
        {
          "output_type": "stream",
          "name": "stdout",
          "text": [
            "Checking whether there is an H2O instance running at http://localhost:54321 . connected.\n"
          ]
        },
        {
          "output_type": "display_data",
          "data": {
            "text/plain": [
              "--------------------------  ----------------------------------\n",
              "H2O_cluster_uptime:         1 hour 34 mins\n",
              "H2O_cluster_timezone:       Etc/UTC\n",
              "H2O_data_parsing_timezone:  UTC\n",
              "H2O_cluster_version:        3.38.0.1\n",
              "H2O_cluster_version_age:    1 month and 6 days\n",
              "H2O_cluster_name:           H2O_from_python_unknownUser_ujxj0v\n",
              "H2O_cluster_total_nodes:    1\n",
              "H2O_cluster_free_memory:    3.033 Gb\n",
              "H2O_cluster_total_cores:    2\n",
              "H2O_cluster_allowed_cores:  2\n",
              "H2O_cluster_status:         locked, healthy\n",
              "H2O_connection_url:         http://localhost:54321\n",
              "H2O_connection_proxy:       {\"http\": null, \"https\": null}\n",
              "H2O_internal_security:      False\n",
              "Python_version:             3.7.15 final\n",
              "--------------------------  ----------------------------------"
            ],
            "text/html": [
              "\n",
              "<style>\n",
              "\n",
              "#h2o-table-3.h2o-container {\n",
              "  overflow-x: auto;\n",
              "}\n",
              "#h2o-table-3 .h2o-table {\n",
              "  /* width: 100%; */\n",
              "  margin-top: 1em;\n",
              "  margin-bottom: 1em;\n",
              "}\n",
              "#h2o-table-3 .h2o-table caption {\n",
              "  white-space: nowrap;\n",
              "  caption-side: top;\n",
              "  text-align: left;\n",
              "  /* margin-left: 1em; */\n",
              "  margin: 0;\n",
              "  font-size: larger;\n",
              "}\n",
              "#h2o-table-3 .h2o-table thead {\n",
              "  white-space: nowrap; \n",
              "  position: sticky;\n",
              "  top: 0;\n",
              "  box-shadow: 0 -1px inset;\n",
              "}\n",
              "#h2o-table-3 .h2o-table tbody {\n",
              "  overflow: auto;\n",
              "}\n",
              "#h2o-table-3 .h2o-table th,\n",
              "#h2o-table-3 .h2o-table td {\n",
              "  text-align: right;\n",
              "  /* border: 1px solid; */\n",
              "}\n",
              "#h2o-table-3 .h2o-table tr:nth-child(even) {\n",
              "  /* background: #F5F5F5 */\n",
              "}\n",
              "\n",
              "</style>      \n",
              "<div id=\"h2o-table-3\" class=\"h2o-container\">\n",
              "  <table class=\"h2o-table\">\n",
              "    <caption></caption>\n",
              "    <thead></thead>\n",
              "    <tbody><tr><td>H2O_cluster_uptime:</td>\n",
              "<td>1 hour 34 mins</td></tr>\n",
              "<tr><td>H2O_cluster_timezone:</td>\n",
              "<td>Etc/UTC</td></tr>\n",
              "<tr><td>H2O_data_parsing_timezone:</td>\n",
              "<td>UTC</td></tr>\n",
              "<tr><td>H2O_cluster_version:</td>\n",
              "<td>3.38.0.1</td></tr>\n",
              "<tr><td>H2O_cluster_version_age:</td>\n",
              "<td>1 month and 6 days </td></tr>\n",
              "<tr><td>H2O_cluster_name:</td>\n",
              "<td>H2O_from_python_unknownUser_ujxj0v</td></tr>\n",
              "<tr><td>H2O_cluster_total_nodes:</td>\n",
              "<td>1</td></tr>\n",
              "<tr><td>H2O_cluster_free_memory:</td>\n",
              "<td>3.033 Gb</td></tr>\n",
              "<tr><td>H2O_cluster_total_cores:</td>\n",
              "<td>2</td></tr>\n",
              "<tr><td>H2O_cluster_allowed_cores:</td>\n",
              "<td>2</td></tr>\n",
              "<tr><td>H2O_cluster_status:</td>\n",
              "<td>locked, healthy</td></tr>\n",
              "<tr><td>H2O_connection_url:</td>\n",
              "<td>http://localhost:54321</td></tr>\n",
              "<tr><td>H2O_connection_proxy:</td>\n",
              "<td>{\"http\": null, \"https\": null}</td></tr>\n",
              "<tr><td>H2O_internal_security:</td>\n",
              "<td>False</td></tr>\n",
              "<tr><td>Python_version:</td>\n",
              "<td>3.7.15 final</td></tr></tbody>\n",
              "  </table>\n",
              "</div>\n"
            ]
          },
          "metadata": {}
        }
      ]
    },
    {
      "cell_type": "code",
      "source": [
        "# set this to True if interactive (matplotlib) plots are desired\n",
        "interactive = True\n",
        "if not interactive: matplotlib.use('Agg', warn=False)\n",
        "import matplotlib.pyplot as plt"
      ],
      "metadata": {
        "id": "Hr4gn8FHmBrd"
      },
      "execution_count": 58,
      "outputs": []
    },
    {
      "cell_type": "code",
      "source": [
        "#Viewing data in the file \n",
        "data = h2o.import_file(\"cereal.csv\")\n",
        "data.shape\n",
        "data.describe()\n",
        "data.head()\n"
      ],
      "metadata": {
        "colab": {
          "base_uri": "https://localhost:8080/",
          "height": 1000
        },
        "id": "S01xMKaekqo6",
        "outputId": "2c96bbc1-1032-43d3-ee57-7fa47c5b59db"
      },
      "execution_count": 59,
      "outputs": [
        {
          "output_type": "stream",
          "name": "stdout",
          "text": [
            "Parse progress: |████████████████████████████████████████████████████████████████| (done) 100%\n"
          ]
        },
        {
          "output_type": "display_data",
          "data": {
            "text/plain": [
              "Rows:77\n",
              "Cols:16\n"
            ],
            "text/html": [
              "<pre style='margin: 1em 0 1em 0;'>Rows:77\n",
              "Cols:16\n",
              "</pre>"
            ]
          },
          "metadata": {}
        },
        {
          "output_type": "display_data",
          "data": {
            "text/plain": [
              "         name                       mfr    type    calories            protein            fat                 sodium              fiber               carbo               sugars              potass             vitamins            shelf               weight               cups                 rating\n",
              "-------  -------------------------  -----  ------  ------------------  -----------------  ------------------  ------------------  ------------------  ------------------  ------------------  -----------------  ------------------  ------------------  -------------------  -------------------  ------------------\n",
              "type     string                     enum   enum    int                 int                int                 int                 real                real                int                 int                int                 int                 real                 real                 real\n",
              "mins     NaN                                       50.0                1.0                0.0                 0.0                 0.0                 -1.0                -1.0                -1.0               0.0                 1.0                 0.5                  0.25                 18.042851\n",
              "mean     NaN                                       106.8831168831169   2.545454545454545  1.0129870129870129  159.67532467532473  2.1519480519480525  14.597402597402601  6.922077922077923   96.07792207792208  28.246753246753244  2.2077922077922074  1.0296103896103896   0.8210389610389608   42.665704987012965\n",
              "maxs     NaN                                       160.0               6.0                5.0                 320.0               14.0                23.0                15.0                330.0              100.0               3.0                 1.5                  1.5                  93.704912\n",
              "sigma    NaN                                       19.484119056820845  1.094789748445534  1.0064725594803927  83.83229524009316   2.3833639643872226  4.278956280325907   4.4448853924193585  71.2868125092621   22.342522500566307  0.832524100135788   0.15047679973689213  0.23271613844691388  14.047288743735217\n",
              "zeros    0                                         0                   0                  27                  9                   19                  0                   7                   0                  8                   0                   0                    0                    0\n",
              "missing  0                          0      0       0                   0                  0                   0                   0                   0                   0                   0                  0                   0                   0                    0                    0\n",
              "0        100% Bran                  N      C       70.0                4.0                1.0                 130.0               10.0                5.0                 6.0                 280.0              25.0                3.0                 1.0                  0.33                 68.402973\n",
              "1        100% Natural Bran          Q      C       120.0               3.0                5.0                 15.0                2.0                 8.0                 8.0                 135.0              0.0                 3.0                 1.0                  1.0                  33.983679\n",
              "2        All-Bran                   K      C       70.0                4.0                1.0                 260.0               9.0                 7.0                 5.0                 320.0              25.0                3.0                 1.0                  0.33                 59.425505\n",
              "3        All-Bran with Extra Fiber  K      C       50.0                4.0                0.0                 140.0               14.0                8.0                 0.0                 330.0              25.0                3.0                 1.0                  0.5                  93.704912\n",
              "4        Almond Delight             R      C       110.0               2.0                2.0                 200.0               1.0                 14.0                8.0                 -1.0               25.0                3.0                 1.0                  0.75                 34.384843\n",
              "5        Apple Cinnamon Cheerios    G      C       110.0               2.0                2.0                 180.0               1.5                 10.5                10.0                70.0               25.0                1.0                 1.0                  0.75                 29.509541\n",
              "6        Apple Jacks                K      C       110.0               2.0                0.0                 125.0               1.0                 11.0                14.0                30.0               25.0                2.0                 1.0                  1.0                  33.174094\n",
              "7        Basic 4                    G      C       130.0               3.0                2.0                 210.0               2.0                 18.0                8.0                 100.0              25.0                3.0                 1.33                 0.75                 37.038562\n",
              "8        Bran Chex                  R      C       90.0                2.0                1.0                 200.0               4.0                 15.0                6.0                 125.0              25.0                1.0                 1.0                  0.67                 49.120253\n",
              "9        Bran Flakes                P      C       90.0                3.0                0.0                 210.0               5.0                 13.0                5.0                 190.0              25.0                3.0                 1.0                  0.67                 53.313813\n",
              "[77 rows x 16 columns]\n"
            ],
            "text/html": [
              "<table class='dataframe'>\n",
              "<thead>\n",
              "<tr><th>       </th><th>name                     </th><th>mfr  </th><th>type  </th><th>calories          </th><th>protein          </th><th>fat               </th><th>sodium            </th><th>fiber             </th><th>carbo             </th><th>sugars            </th><th>potass           </th><th>vitamins          </th><th>shelf             </th><th>weight             </th><th>cups               </th><th>rating            </th></tr>\n",
              "</thead>\n",
              "<tbody>\n",
              "<tr><td>type   </td><td>string                   </td><td>enum </td><td>enum  </td><td>int               </td><td>int              </td><td>int               </td><td>int               </td><td>real              </td><td>real              </td><td>int               </td><td>int              </td><td>int               </td><td>int               </td><td>real               </td><td>real               </td><td>real              </td></tr>\n",
              "<tr><td>mins   </td><td>NaN                      </td><td>     </td><td>      </td><td>50.0              </td><td>1.0              </td><td>0.0               </td><td>0.0               </td><td>0.0               </td><td>-1.0              </td><td>-1.0              </td><td>-1.0             </td><td>0.0               </td><td>1.0               </td><td>0.5                </td><td>0.25               </td><td>18.042851         </td></tr>\n",
              "<tr><td>mean   </td><td>NaN                      </td><td>     </td><td>      </td><td>106.8831168831169 </td><td>2.545454545454545</td><td>1.0129870129870129</td><td>159.67532467532473</td><td>2.1519480519480525</td><td>14.597402597402601</td><td>6.922077922077923 </td><td>96.07792207792208</td><td>28.246753246753244</td><td>2.2077922077922074</td><td>1.0296103896103896 </td><td>0.8210389610389608 </td><td>42.665704987012965</td></tr>\n",
              "<tr><td>maxs   </td><td>NaN                      </td><td>     </td><td>      </td><td>160.0             </td><td>6.0              </td><td>5.0               </td><td>320.0             </td><td>14.0              </td><td>23.0              </td><td>15.0              </td><td>330.0            </td><td>100.0             </td><td>3.0               </td><td>1.5                </td><td>1.5                </td><td>93.704912         </td></tr>\n",
              "<tr><td>sigma  </td><td>NaN                      </td><td>     </td><td>      </td><td>19.484119056820845</td><td>1.094789748445534</td><td>1.0064725594803927</td><td>83.83229524009316 </td><td>2.3833639643872226</td><td>4.278956280325907 </td><td>4.4448853924193585</td><td>71.2868125092621 </td><td>22.342522500566307</td><td>0.832524100135788 </td><td>0.15047679973689213</td><td>0.23271613844691388</td><td>14.047288743735217</td></tr>\n",
              "<tr><td>zeros  </td><td>0                        </td><td>     </td><td>      </td><td>0                 </td><td>0                </td><td>27                </td><td>9                 </td><td>19                </td><td>0                 </td><td>7                 </td><td>0                </td><td>8                 </td><td>0                 </td><td>0                  </td><td>0                  </td><td>0                 </td></tr>\n",
              "<tr><td>missing</td><td>0                        </td><td>0    </td><td>0     </td><td>0                 </td><td>0                </td><td>0                 </td><td>0                 </td><td>0                 </td><td>0                 </td><td>0                 </td><td>0                </td><td>0                 </td><td>0                 </td><td>0                  </td><td>0                  </td><td>0                 </td></tr>\n",
              "<tr><td>0      </td><td>100% Bran                </td><td>N    </td><td>C     </td><td>70.0              </td><td>4.0              </td><td>1.0               </td><td>130.0             </td><td>10.0              </td><td>5.0               </td><td>6.0               </td><td>280.0            </td><td>25.0              </td><td>3.0               </td><td>1.0                </td><td>0.33               </td><td>68.402973         </td></tr>\n",
              "<tr><td>1      </td><td>100% Natural Bran        </td><td>Q    </td><td>C     </td><td>120.0             </td><td>3.0              </td><td>5.0               </td><td>15.0              </td><td>2.0               </td><td>8.0               </td><td>8.0               </td><td>135.0            </td><td>0.0               </td><td>3.0               </td><td>1.0                </td><td>1.0                </td><td>33.983679         </td></tr>\n",
              "<tr><td>2      </td><td>All-Bran                 </td><td>K    </td><td>C     </td><td>70.0              </td><td>4.0              </td><td>1.0               </td><td>260.0             </td><td>9.0               </td><td>7.0               </td><td>5.0               </td><td>320.0            </td><td>25.0              </td><td>3.0               </td><td>1.0                </td><td>0.33               </td><td>59.425505         </td></tr>\n",
              "<tr><td>3      </td><td>All-Bran with Extra Fiber</td><td>K    </td><td>C     </td><td>50.0              </td><td>4.0              </td><td>0.0               </td><td>140.0             </td><td>14.0              </td><td>8.0               </td><td>0.0               </td><td>330.0            </td><td>25.0              </td><td>3.0               </td><td>1.0                </td><td>0.5                </td><td>93.704912         </td></tr>\n",
              "<tr><td>4      </td><td>Almond Delight           </td><td>R    </td><td>C     </td><td>110.0             </td><td>2.0              </td><td>2.0               </td><td>200.0             </td><td>1.0               </td><td>14.0              </td><td>8.0               </td><td>-1.0             </td><td>25.0              </td><td>3.0               </td><td>1.0                </td><td>0.75               </td><td>34.384843         </td></tr>\n",
              "<tr><td>5      </td><td>Apple Cinnamon Cheerios  </td><td>G    </td><td>C     </td><td>110.0             </td><td>2.0              </td><td>2.0               </td><td>180.0             </td><td>1.5               </td><td>10.5              </td><td>10.0              </td><td>70.0             </td><td>25.0              </td><td>1.0               </td><td>1.0                </td><td>0.75               </td><td>29.509541         </td></tr>\n",
              "<tr><td>6      </td><td>Apple Jacks              </td><td>K    </td><td>C     </td><td>110.0             </td><td>2.0              </td><td>0.0               </td><td>125.0             </td><td>1.0               </td><td>11.0              </td><td>14.0              </td><td>30.0             </td><td>25.0              </td><td>2.0               </td><td>1.0                </td><td>1.0                </td><td>33.174094         </td></tr>\n",
              "<tr><td>7      </td><td>Basic 4                  </td><td>G    </td><td>C     </td><td>130.0             </td><td>3.0              </td><td>2.0               </td><td>210.0             </td><td>2.0               </td><td>18.0              </td><td>8.0               </td><td>100.0            </td><td>25.0              </td><td>3.0               </td><td>1.33               </td><td>0.75               </td><td>37.038562         </td></tr>\n",
              "<tr><td>8      </td><td>Bran Chex                </td><td>R    </td><td>C     </td><td>90.0              </td><td>2.0              </td><td>1.0               </td><td>200.0             </td><td>4.0               </td><td>15.0              </td><td>6.0               </td><td>125.0            </td><td>25.0              </td><td>1.0               </td><td>1.0                </td><td>0.67               </td><td>49.120253         </td></tr>\n",
              "<tr><td>9      </td><td>Bran Flakes              </td><td>P    </td><td>C     </td><td>90.0              </td><td>3.0              </td><td>0.0               </td><td>210.0             </td><td>5.0               </td><td>13.0              </td><td>5.0               </td><td>190.0            </td><td>25.0              </td><td>3.0               </td><td>1.0                </td><td>0.67               </td><td>53.313813         </td></tr>\n",
              "</tbody>\n",
              "</table><pre style='font-size: smaller; margin-bottom: 1em;'>[77 rows x 16 columns]</pre>"
            ]
          },
          "metadata": {}
        },
        {
          "output_type": "execute_result",
          "data": {
            "text/plain": [
              "name                       mfr    type      calories    protein    fat    sodium    fiber    carbo    sugars    potass    vitamins    shelf    weight    cups    rating\n",
              "-------------------------  -----  ------  ----------  ---------  -----  --------  -------  -------  --------  --------  ----------  -------  --------  ------  --------\n",
              "100% Bran                  N      C               70          4      1       130     10        5           6       280          25        3      1       0.33   68.403\n",
              "100% Natural Bran          Q      C              120          3      5        15      2        8           8       135           0        3      1       1      33.9837\n",
              "All-Bran                   K      C               70          4      1       260      9        7           5       320          25        3      1       0.33   59.4255\n",
              "All-Bran with Extra Fiber  K      C               50          4      0       140     14        8           0       330          25        3      1       0.5    93.7049\n",
              "Almond Delight             R      C              110          2      2       200      1       14           8        -1          25        3      1       0.75   34.3848\n",
              "Apple Cinnamon Cheerios    G      C              110          2      2       180      1.5     10.5        10        70          25        1      1       0.75   29.5095\n",
              "Apple Jacks                K      C              110          2      0       125      1       11          14        30          25        2      1       1      33.1741\n",
              "Basic 4                    G      C              130          3      2       210      2       18           8       100          25        3      1.33    0.75   37.0386\n",
              "Bran Chex                  R      C               90          2      1       200      4       15           6       125          25        1      1       0.67   49.1203\n",
              "Bran Flakes                P      C               90          3      0       210      5       13           5       190          25        3      1       0.67   53.3138\n",
              "[10 rows x 16 columns]\n"
            ],
            "text/html": [
              "<table class='dataframe'>\n",
              "<thead>\n",
              "<tr><th>name                     </th><th>mfr  </th><th>type  </th><th style=\"text-align: right;\">  calories</th><th style=\"text-align: right;\">  protein</th><th style=\"text-align: right;\">  fat</th><th style=\"text-align: right;\">  sodium</th><th style=\"text-align: right;\">  fiber</th><th style=\"text-align: right;\">  carbo</th><th style=\"text-align: right;\">  sugars</th><th style=\"text-align: right;\">  potass</th><th style=\"text-align: right;\">  vitamins</th><th style=\"text-align: right;\">  shelf</th><th style=\"text-align: right;\">  weight</th><th style=\"text-align: right;\">  cups</th><th style=\"text-align: right;\">  rating</th></tr>\n",
              "</thead>\n",
              "<tbody>\n",
              "<tr><td>100% Bran                </td><td>N    </td><td>C     </td><td style=\"text-align: right;\">        70</td><td style=\"text-align: right;\">        4</td><td style=\"text-align: right;\">    1</td><td style=\"text-align: right;\">     130</td><td style=\"text-align: right;\">   10  </td><td style=\"text-align: right;\">    5  </td><td style=\"text-align: right;\">       6</td><td style=\"text-align: right;\">     280</td><td style=\"text-align: right;\">        25</td><td style=\"text-align: right;\">      3</td><td style=\"text-align: right;\">    1   </td><td style=\"text-align: right;\">  0.33</td><td style=\"text-align: right;\"> 68.403 </td></tr>\n",
              "<tr><td>100% Natural Bran        </td><td>Q    </td><td>C     </td><td style=\"text-align: right;\">       120</td><td style=\"text-align: right;\">        3</td><td style=\"text-align: right;\">    5</td><td style=\"text-align: right;\">      15</td><td style=\"text-align: right;\">    2  </td><td style=\"text-align: right;\">    8  </td><td style=\"text-align: right;\">       8</td><td style=\"text-align: right;\">     135</td><td style=\"text-align: right;\">         0</td><td style=\"text-align: right;\">      3</td><td style=\"text-align: right;\">    1   </td><td style=\"text-align: right;\">  1   </td><td style=\"text-align: right;\"> 33.9837</td></tr>\n",
              "<tr><td>All-Bran                 </td><td>K    </td><td>C     </td><td style=\"text-align: right;\">        70</td><td style=\"text-align: right;\">        4</td><td style=\"text-align: right;\">    1</td><td style=\"text-align: right;\">     260</td><td style=\"text-align: right;\">    9  </td><td style=\"text-align: right;\">    7  </td><td style=\"text-align: right;\">       5</td><td style=\"text-align: right;\">     320</td><td style=\"text-align: right;\">        25</td><td style=\"text-align: right;\">      3</td><td style=\"text-align: right;\">    1   </td><td style=\"text-align: right;\">  0.33</td><td style=\"text-align: right;\"> 59.4255</td></tr>\n",
              "<tr><td>All-Bran with Extra Fiber</td><td>K    </td><td>C     </td><td style=\"text-align: right;\">        50</td><td style=\"text-align: right;\">        4</td><td style=\"text-align: right;\">    0</td><td style=\"text-align: right;\">     140</td><td style=\"text-align: right;\">   14  </td><td style=\"text-align: right;\">    8  </td><td style=\"text-align: right;\">       0</td><td style=\"text-align: right;\">     330</td><td style=\"text-align: right;\">        25</td><td style=\"text-align: right;\">      3</td><td style=\"text-align: right;\">    1   </td><td style=\"text-align: right;\">  0.5 </td><td style=\"text-align: right;\"> 93.7049</td></tr>\n",
              "<tr><td>Almond Delight           </td><td>R    </td><td>C     </td><td style=\"text-align: right;\">       110</td><td style=\"text-align: right;\">        2</td><td style=\"text-align: right;\">    2</td><td style=\"text-align: right;\">     200</td><td style=\"text-align: right;\">    1  </td><td style=\"text-align: right;\">   14  </td><td style=\"text-align: right;\">       8</td><td style=\"text-align: right;\">      -1</td><td style=\"text-align: right;\">        25</td><td style=\"text-align: right;\">      3</td><td style=\"text-align: right;\">    1   </td><td style=\"text-align: right;\">  0.75</td><td style=\"text-align: right;\"> 34.3848</td></tr>\n",
              "<tr><td>Apple Cinnamon Cheerios  </td><td>G    </td><td>C     </td><td style=\"text-align: right;\">       110</td><td style=\"text-align: right;\">        2</td><td style=\"text-align: right;\">    2</td><td style=\"text-align: right;\">     180</td><td style=\"text-align: right;\">    1.5</td><td style=\"text-align: right;\">   10.5</td><td style=\"text-align: right;\">      10</td><td style=\"text-align: right;\">      70</td><td style=\"text-align: right;\">        25</td><td style=\"text-align: right;\">      1</td><td style=\"text-align: right;\">    1   </td><td style=\"text-align: right;\">  0.75</td><td style=\"text-align: right;\"> 29.5095</td></tr>\n",
              "<tr><td>Apple Jacks              </td><td>K    </td><td>C     </td><td style=\"text-align: right;\">       110</td><td style=\"text-align: right;\">        2</td><td style=\"text-align: right;\">    0</td><td style=\"text-align: right;\">     125</td><td style=\"text-align: right;\">    1  </td><td style=\"text-align: right;\">   11  </td><td style=\"text-align: right;\">      14</td><td style=\"text-align: right;\">      30</td><td style=\"text-align: right;\">        25</td><td style=\"text-align: right;\">      2</td><td style=\"text-align: right;\">    1   </td><td style=\"text-align: right;\">  1   </td><td style=\"text-align: right;\"> 33.1741</td></tr>\n",
              "<tr><td>Basic 4                  </td><td>G    </td><td>C     </td><td style=\"text-align: right;\">       130</td><td style=\"text-align: right;\">        3</td><td style=\"text-align: right;\">    2</td><td style=\"text-align: right;\">     210</td><td style=\"text-align: right;\">    2  </td><td style=\"text-align: right;\">   18  </td><td style=\"text-align: right;\">       8</td><td style=\"text-align: right;\">     100</td><td style=\"text-align: right;\">        25</td><td style=\"text-align: right;\">      3</td><td style=\"text-align: right;\">    1.33</td><td style=\"text-align: right;\">  0.75</td><td style=\"text-align: right;\"> 37.0386</td></tr>\n",
              "<tr><td>Bran Chex                </td><td>R    </td><td>C     </td><td style=\"text-align: right;\">        90</td><td style=\"text-align: right;\">        2</td><td style=\"text-align: right;\">    1</td><td style=\"text-align: right;\">     200</td><td style=\"text-align: right;\">    4  </td><td style=\"text-align: right;\">   15  </td><td style=\"text-align: right;\">       6</td><td style=\"text-align: right;\">     125</td><td style=\"text-align: right;\">        25</td><td style=\"text-align: right;\">      1</td><td style=\"text-align: right;\">    1   </td><td style=\"text-align: right;\">  0.67</td><td style=\"text-align: right;\"> 49.1203</td></tr>\n",
              "<tr><td>Bran Flakes              </td><td>P    </td><td>C     </td><td style=\"text-align: right;\">        90</td><td style=\"text-align: right;\">        3</td><td style=\"text-align: right;\">    0</td><td style=\"text-align: right;\">     210</td><td style=\"text-align: right;\">    5  </td><td style=\"text-align: right;\">   13  </td><td style=\"text-align: right;\">       5</td><td style=\"text-align: right;\">     190</td><td style=\"text-align: right;\">        25</td><td style=\"text-align: right;\">      3</td><td style=\"text-align: right;\">    1   </td><td style=\"text-align: right;\">  0.67</td><td style=\"text-align: right;\"> 53.3138</td></tr>\n",
              "</tbody>\n",
              "</table><pre style='font-size: smaller; margin-bottom: 1em;'>[10 rows x 16 columns]</pre>"
            ]
          },
          "metadata": {},
          "execution_count": 59
        }
      ]
    },
    {
      "cell_type": "code",
      "source": [
        "train, test = data.split_frame(seed = 1234, destination_frames = [\"train.hex\", \"test.hex\"])\n"
      ],
      "metadata": {
        "id": "zuwiHEaCAtyM"
      },
      "execution_count": 60,
      "outputs": []
    },
    {
      "cell_type": "code",
      "source": [
        "# assign target and inputs for logistic regression\n",
        "y = 'rating'\n",
        "X = [name for name in train.columns if name != y]\n",
        "print(y)\n",
        "print(X)"
      ],
      "metadata": {
        "colab": {
          "base_uri": "https://localhost:8080/"
        },
        "id": "4HgtOBUuqriv",
        "outputId": "f42eacb3-2318-4c34-869f-b9492141ecd1"
      },
      "execution_count": 61,
      "outputs": [
        {
          "output_type": "stream",
          "name": "stdout",
          "text": [
            "rating\n",
            "['name', 'mfr', 'type', 'calories', 'protein', 'fat', 'sodium', 'fiber', 'carbo', 'sugars', 'potass', 'vitamins', 'shelf', 'weight', 'cups']\n"
          ]
        }
      ]
    },
    {
      "cell_type": "markdown",
      "source": [
        "###Regression"
      ],
      "metadata": {
        "id": "vhabEQFQtZ40"
      }
    },
    {
      "cell_type": "code",
      "source": [
        "aml = H2OAutoML(max_runtime_secs=run_time,exclude_algos = ['DeepLearning'])"
      ],
      "metadata": {
        "id": "ZwgNS0fnth12"
      },
      "execution_count": 62,
      "outputs": []
    },
    {
      "cell_type": "code",
      "source": [
        "aml.train(x=X,y=y,training_frame=train)  # Change training_frame=train"
      ],
      "metadata": {
        "colab": {
          "base_uri": "https://localhost:8080/"
        },
        "id": "kW-ddK9iuvTY",
        "outputId": "961c354b-66c7-4211-e150-3075744a7361"
      },
      "execution_count": 63,
      "outputs": [
        {
          "output_type": "stream",
          "name": "stdout",
          "text": [
            "AutoML progress: |\n",
            "19:45:32.48: _train param, Dropping bad and constant columns: [name]\n",
            "\n",
            "\n",
            "19:45:32.693: _train param, Dropping bad and constant columns: [name]\n",
            "\n",
            "\n",
            "19:45:33.97: _train param, Dropping bad and constant columns: [name]\n",
            "19:45:33.97: _min_rows param, The dataset size is too small to split for min_rows=100.0: must have at least 200.0 (weighted) rows, but have only 54.0.\n",
            "19:45:33.99: _train param, Dropping unused columns: [name]\n",
            "19:45:33.214: _train param, Dropping bad and constant columns: [name]\n",
            "\n",
            "█\n",
            "19:45:34.24: _train param, Dropping bad and constant columns: [name]\n",
            "\n",
            "██\n",
            "19:45:35.277: _train param, Dropping bad and constant columns: [name]\n",
            "\n",
            "██\n",
            "19:45:36.238: _train param, Dropping bad and constant columns: [name]\n",
            "\n",
            "█\n",
            "19:45:37.281: _train param, Dropping bad and constant columns: [name]\n",
            "\n",
            "█\n",
            "19:45:37.822: _train param, Dropping unused columns: [name]\n",
            "19:45:37.941: _train param, Dropping unused columns: [name]\n",
            "19:45:38.65: _train param, Dropping bad and constant columns: [name]\n",
            "\n",
            "██\n",
            "19:45:38.698: _train param, Dropping bad and constant columns: [name]\n",
            "\n",
            "███\n",
            "19:45:40.439: _train param, Dropping bad and constant columns: [name]\n",
            "\n",
            "██\n",
            "19:45:41.260: _train param, Dropping unused columns: [name]\n",
            "19:45:41.387: _train param, Dropping unused columns: [name]\n",
            "\n",
            "████████████████████████████████████████████\n",
            "19:48:55.37: _train param, Dropping unused columns: [name]\n",
            "19:48:55.260: _train param, Dropping unused columns: [name]\n",
            "\n",
            "█\n",
            "19:48:58.187: _train param, Dropping bad and constant columns: [name]\n",
            "19:48:58.798: _train param, Dropping unused columns: [name]\n",
            "\n",
            "\n",
            "19:48:59.646: _train param, Dropping unused columns: [name]\n",
            "\n",
            "███\n",
            "19:49:11.614: _train param, Dropping unused columns: [name]\n",
            "\n",
            "\n",
            "19:49:12.520: _train param, Dropping unused columns: [name]\n",
            "\n",
            "█| (done) 100%\n"
          ]
        }
      ]
    },
    {
      "cell_type": "code",
      "source": [
        "print(aml.leaderboard)"
      ],
      "metadata": {
        "colab": {
          "base_uri": "https://localhost:8080/"
        },
        "id": "wGR8RfMDw9as",
        "outputId": "04dbc13c-e502-4bf5-96c3-02d5ab4af508"
      },
      "execution_count": 65,
      "outputs": [
        {
          "output_type": "stream",
          "name": "stdout",
          "text": [
            "model_id                                                    rmse       mse      mae      rmsle    mean_residual_deviance\n",
            "StackedEnsemble_BestOfFamily_1_AutoML_3_20221025_194532  1.69205   2.86302  1.23099  0.0408406                   2.86302\n",
            "StackedEnsemble_BestOfFamily_6_AutoML_3_20221025_194532  1.72741   2.98393  1.35977  0.0438537                   2.98393\n",
            "GLM_1_AutoML_3_20221025_194532                           1.78334   3.1803   1.42511  0.0474489                   3.1803\n",
            "StackedEnsemble_BestOfFamily_4_AutoML_3_20221025_194532  3.18125  10.1203   2.47811  0.0854998                  10.1203\n",
            "StackedEnsemble_BestOfFamily_3_AutoML_3_20221025_194532  3.38008  11.425    2.4918   0.085515                   11.425\n",
            "StackedEnsemble_AllModels_5_AutoML_3_20221025_194532     3.48911  12.1739   2.60717  0.0899399                  12.1739\n",
            "StackedEnsemble_AllModels_2_AutoML_3_20221025_194532     3.49292  12.2005   2.59889  0.0906441                  12.2005\n",
            "StackedEnsemble_BestOfFamily_2_AutoML_3_20221025_194532  3.51565  12.3598   2.62937  0.0900035                  12.3598\n",
            "StackedEnsemble_AllModels_1_AutoML_3_20221025_194532     3.52436  12.4211   2.60967  0.0880052                  12.4211\n",
            "StackedEnsemble_AllModels_3_AutoML_3_20221025_194532     3.71346  13.7898   2.72562  0.0906384                  13.7898\n",
            "[353 rows x 6 columns]\n",
            "\n"
          ]
        }
      ]
    },
    {
      "cell_type": "markdown",
      "source": [
        "###Answer Questions using Leading Model\n",
        "**1. Is the relationship significant?**\n",
        " "
      ],
      "metadata": {
        "id": "-m4pNOU9xWnY"
      }
    },
    {
      "cell_type": "code",
      "source": [
        "best_model = h2o.get_model(aml.leaderboard[2,'model_id'])\n",
        "best_model.algo"
      ],
      "metadata": {
        "colab": {
          "base_uri": "https://localhost:8080/",
          "height": 36
        },
        "id": "MbhqaV-GxWKV",
        "outputId": "b745a875-f37b-457b-de00-49236d2948f8"
      },
      "execution_count": 74,
      "outputs": [
        {
          "output_type": "execute_result",
          "data": {
            "text/plain": [
              "'glm'"
            ],
            "application/vnd.google.colaboratory.intrinsic+json": {
              "type": "string"
            }
          },
          "metadata": {},
          "execution_count": 74
        }
      ]
    },
    {
      "cell_type": "code",
      "source": [
        "best_model.r2(train=True)"
      ],
      "metadata": {
        "id": "ixwIcs4rylh7",
        "outputId": "b1a5c20e-7d82-4b02-8c6e-8b79866e7f62",
        "colab": {
          "base_uri": "https://localhost:8080/"
        }
      },
      "execution_count": 67,
      "outputs": [
        {
          "output_type": "execute_result",
          "data": {
            "text/plain": [
              "0.9904745140952762"
            ]
          },
          "metadata": {},
          "execution_count": 67
        }
      ]
    },
    {
      "cell_type": "code",
      "source": [
        "print(best_model.r2(valid=True))"
      ],
      "metadata": {
        "id": "-Jz5U6HnCGzq",
        "outputId": "2cf8718c-6c2c-46b0-8da0-564960c7993f",
        "colab": {
          "base_uri": "https://localhost:8080/"
        }
      },
      "execution_count": 68,
      "outputs": [
        {
          "output_type": "stream",
          "name": "stdout",
          "text": [
            "None\n"
          ]
        }
      ]
    },
    {
      "cell_type": "code",
      "source": [
        "print(best_model.r2(xval = True))"
      ],
      "metadata": {
        "id": "UODiwILHzPO5",
        "outputId": "5befa0a4-099d-4b21-b0fa-237efceff22f",
        "colab": {
          "base_uri": "https://localhost:8080/"
        }
      },
      "execution_count": 69,
      "outputs": [
        {
          "output_type": "stream",
          "name": "stdout",
          "text": [
            "0.9779243356240078\n"
          ]
        }
      ]
    },
    {
      "cell_type": "code",
      "source": [
        "perf = aml.leader.model_performance(test)\n",
        "perf"
      ],
      "metadata": {
        "id": "duKopcW5pAyM",
        "outputId": "f60732bd-608d-4a5d-d784-83e94a473f9d",
        "colab": {
          "base_uri": "https://localhost:8080/",
          "height": 288
        }
      },
      "execution_count": 75,
      "outputs": [
        {
          "output_type": "execute_result",
          "data": {
            "text/plain": [
              "ModelMetricsRegressionGLM: stackedensemble\n",
              "** Reported on test data. **\n",
              "\n",
              "MSE: 2.1859933385079184\n",
              "RMSE: 1.4785105134925212\n",
              "MAE: 1.0589094413537428\n",
              "RMSLE: 0.02585770048910259\n",
              "Mean Residual Deviance: 2.1859933385079184\n",
              "R^2: 0.9921724653803159\n",
              "Null degrees of freedom: 22\n",
              "Residual degrees of freedom: 21\n",
              "Null deviance: 7555.614683720491\n",
              "Residual deviance: 50.27784678568212\n",
              "AIC: 89.25879040276615"
            ],
            "text/html": [
              "<pre style='margin: 1em 0 1em 0;'>ModelMetricsRegressionGLM: stackedensemble\n",
              "** Reported on test data. **\n",
              "\n",
              "MSE: 2.1859933385079184\n",
              "RMSE: 1.4785105134925212\n",
              "MAE: 1.0589094413537428\n",
              "RMSLE: 0.02585770048910259\n",
              "Mean Residual Deviance: 2.1859933385079184\n",
              "R^2: 0.9921724653803159\n",
              "Null degrees of freedom: 22\n",
              "Residual degrees of freedom: 21\n",
              "Null deviance: 7555.614683720491\n",
              "Residual deviance: 50.27784678568212\n",
              "AIC: 89.25879040276615</pre>"
            ]
          },
          "metadata": {},
          "execution_count": 75
        }
      ]
    },
    {
      "cell_type": "markdown",
      "source": [
        "According to R^2, we see a high correlation in our training model. In a General Linear Model, having a a R^2 value close to one suggests there is a significant relationship."
      ],
      "metadata": {
        "id": "Eoh0IwM39WZU"
      }
    },
    {
      "cell_type": "markdown",
      "source": [
        "**2. Are any model assumptions violated?**"
      ],
      "metadata": {
        "id": "pdI1DZgxCn1L"
      }
    },
    {
      "cell_type": "markdown",
      "source": [
        "**3. Is there any multicollinearity in the model?**"
      ],
      "metadata": {
        "id": "HDSxmkTxDPDH"
      }
    },
    {
      "cell_type": "code",
      "source": [
        "best_model.partial_plot(train, cols = ['mfr'], plot = True, plot_stddev = False)"
      ],
      "metadata": {
        "id": "rpo365MTDSU_",
        "outputId": "4357105b-da4f-4c9e-93a4-68182e8bfb93",
        "colab": {
          "base_uri": "https://localhost:8080/",
          "height": 971
        }
      },
      "execution_count": 82,
      "outputs": [
        {
          "output_type": "stream",
          "name": "stdout",
          "text": [
            "PartialDependencePlot progress: |████████████████████████████████████████████████| (done) 100%\n"
          ]
        },
        {
          "output_type": "execute_result",
          "data": {
            "text/plain": [
              "[PartialDependence: Partial Dependence Plot of model GLM_1_AutoML_3_20221025_194532 on column 'mfr'.\n",
              "mfr    mean_response    stddev_response    std_error_mean_response\n",
              "-----  ---------------  -----------------  -------------------------\n",
              "A      40.7795          11.0361            1.50183\n",
              "G      39.84            11.0361            1.50183\n",
              "K      40.9413          11.0361            1.50183\n",
              "N      42.2897          11.0361            1.50183\n",
              "P      40.6927          11.0361            1.50183\n",
              "Q      39.938           11.0361            1.50183\n",
              "R      40.8968          11.0361            1.50183]"
            ]
          },
          "metadata": {},
          "execution_count": 82
        },
        {
          "output_type": "display_data",
          "data": {
            "text/plain": [
              "<Figure size 504x720 with 1 Axes>"
            ],
            "image/png": "[encoded data removed]"
          },
          "metadata": {
            "needs_background": "light"
          }
        }
      ]
    },
    {
      "cell_type": "markdown",
      "source": [
        "**4. In the multivariate models are predictor variables independent of all the other predictor variables?**"
      ],
      "metadata": {
        "id": "fltC_CE0GXSu"
      }
    },
    {
      "cell_type": "markdown",
      "source": [
        "**5. In in multivariate models rank the most significant predictor variables and exclude insignificant ones from the model.**"
      ],
      "metadata": {
        "id": "x093-iQ0GjY1"
      }
    },
    {
      "cell_type": "code",
      "source": [
        "import matplotlib.pyplot as plt\n",
        "%matplotlib inline\n",
        "\n",
        "import warnings\n",
        "import matplotlib.cbook\n",
        "warnings.filterwarnings(\"ignore\", category = matplotlib.cbook.mplDeprecation)"
      ],
      "metadata": {
        "id": "XIi0SH_sxvjI"
      },
      "execution_count": 71,
      "outputs": []
    },
    {
      "cell_type": "code",
      "source": [
        "best_model.varimp_plot()"
      ],
      "metadata": {
        "id": "9Cx3dXbxxza2",
        "outputId": "b96f06a1-2308-418b-d311-2f86977cc2b5",
        "colab": {
          "base_uri": "https://localhost:8080/",
          "height": 495
        }
      },
      "execution_count": 72,
      "outputs": [
        {
          "output_type": "display_data",
          "data": {
            "text/plain": [
              "<Figure size 1008x720 with 1 Axes>"
            ],
            "image/png": "[encoded data removed]"
          },
          "metadata": {
            "needs_background": "light"
          }
        },
        {
          "output_type": "execute_result",
          "data": {
            "text/plain": [
              "<h2o.plot._plot_result._MObject at 0x7ff9a7969090>"
            ]
          },
          "metadata": {},
          "execution_count": 72
        },
        {
          "output_type": "display_data",
          "data": {
            "text/plain": [
              "<Figure size 432x288 with 0 Axes>"
            ]
          },
          "metadata": {}
        }
      ]
    },
    {
      "cell_type": "markdown",
      "source": [
        "* Is the relationship significant?\n",
        "\n",
        "* Are any model assumptions violated?\n",
        "\n",
        "* Is there any multicollinearity in the model?\n",
        "\n",
        "* In the multivariate models are predictor variables independent of all the other predictor variables?\n",
        "\n",
        "* In in multivariate models rank the most significant predictor variables and exclude insignificant ones from the model.\n",
        "\n",
        "* Does the model make sense?\n",
        "\n",
        "* Does regularization help?\n",
        "\n",
        "* Which independent variables are significant?\n",
        "\n",
        "* Which hyperparameters are important?\n",
        "\n",
        "* Coding professionalism?"
      ],
      "metadata": {
        "id": "_n8EahSRto1F"
      }
    }
  ]
}
